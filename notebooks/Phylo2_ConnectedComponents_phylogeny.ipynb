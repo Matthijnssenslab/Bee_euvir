{
 "cells": [
  {
   "cell_type": "markdown",
   "metadata": {},
   "source": [
    "# Parse tblx output to include references in phylogenies\n",
    "\n",
    "All blast outputs are available through zenodo.\n",
    "\n",
    "Please note (since this uses an old version of networkx, you need to use the networkx conda env rather than the general one)."
   ]
  },
  {
   "cell_type": "code",
   "execution_count": 1,
   "metadata": {},
   "outputs": [],
   "source": [
    "import networkx as nx\n",
    "import matplotlib\n",
    "import warnings\n",
    "warnings.filterwarnings(\"ignore\")\n",
    "%matplotlib inline"
   ]
  },
  {
   "cell_type": "code",
   "execution_count": 2,
   "metadata": {},
   "outputs": [],
   "source": [
    "############################### Tymovirales ##################################\n",
    "# Create graph from blp output.\n",
    "tymo_blp = []\n",
    "#Read in tblx output.\n",
    "with open('../../Bee_euvirDATA/data/tymo.bee.ref.BLP') as f:\n",
    "    for line in f:\n",
    "        if line.strip().split()[0] != line.strip().split()[1]:\n",
    "            tymo_blp.append(line.strip().split())\n",
    "interactdir = {}\n",
    "for i in tymo_blp:\n",
    "    couplestr = str(i[0]) + '|' + str(i[1])\n",
    "    revcouplestr = str(i[1]) + '|' + str(i[0])\n",
    "    bit = float(i[11])\n",
    "    if couplestr in interactdir:\n",
    "        if interactdir[couplestr] < bit:\n",
    "            interactdir[couplestr] = bit\n",
    "    if revcouplestr in interactdir:\n",
    "        if interactdir[revcouplestr] < bit:\n",
    "            interactdir[revcouplestr] = bit\n",
    "    else:\n",
    "        interactdir[couplestr] = bit\n",
    "tymo_netw = []\n",
    "for i in interactdir:\n",
    "    str1 = i.split('|')[0]\n",
    "    str2 = i.split('|')[1]\n",
    "    bit = interactdir[i]\n",
    "    tymo_netw.append([str1,str2,bit])\n",
    "\n",
    "#Create network with networkx:\n",
    "nodeslist = []\n",
    "for i in tymo_netw:\n",
    "    if i[0] not in nodeslist:\n",
    "        nodeslist.append(i[0])\n",
    "    if i[1] not in nodeslist:\n",
    "        nodeslist.append(i[1])\n",
    "tymo_G = nx.Graph()\n",
    "tymo_G.add_nodes_from(nodeslist)\n",
    "# edge ebunch:\n",
    "edgeebun = []\n",
    "for i in tymo_netw:\n",
    "    edgeebun.append((i[0],i[1], {'weight': float(i[2])}))\n",
    "tymo_G.add_edges_from(edgeebun)"
   ]
  },
  {
   "cell_type": "code",
   "execution_count": 3,
   "metadata": {},
   "outputs": [
    {
     "data": {
      "image/png": "[encoded data removed]",
      "text/plain": [
       "<Figure size 432x288 with 1 Axes>"
      ]
     },
     "metadata": {},
     "output_type": "display_data"
    }
   ],
   "source": [
    "nx.draw_spring(tymo_G, node_size=5)"
   ]
  },
  {
   "cell_type": "code",
   "execution_count": 4,
   "metadata": {},
   "outputs": [
    {
     "name": "stdout",
     "output_type": "stream",
     "text": [
      "393\n"
     ]
    }
   ],
   "source": [
    "#Grab largest component:\n",
    "tymogiant = max(nx.connected_component_subgraphs(tymo_G), key=len)\n",
    "#print(list(tymogiant.nodes()))\n",
    "print(len(list(tymogiant.nodes())))\n",
    "#with open('output/BlastP_connectedComp_sra/tymo_connames.txt','w') as f:\n",
    "#    for item in list(tymogiant.nodes()):\n",
    "#        f.write(\"%s\\n\" % item)"
   ]
  },
  {
   "cell_type": "code",
   "execution_count": 7,
   "metadata": {},
   "outputs": [],
   "source": [
    "############################### Toti ##################################\n",
    "# Create graph from blp output.\n",
    "toti_blp = []\n",
    "#Read in tblx output.\n",
    "with open('../../Bee_euvirDATA/data/toti.bee.ref.BLP') as f:\n",
    "    for line in f:\n",
    "        if line.strip().split()[0] != line.strip().split()[1]:\n",
    "            toti_blp.append(line.strip().split())\n",
    "interactdir = {}\n",
    "for i in toti_blp:\n",
    "    couplestr = str(i[0]) + '|' + str(i[1])\n",
    "    revcouplestr = str(i[1]) + '|' + str(i[0])\n",
    "    bit = float(i[11])\n",
    "    if couplestr in interactdir:\n",
    "        if interactdir[couplestr] < bit:\n",
    "            interactdir[couplestr] = bit\n",
    "    if revcouplestr in interactdir:\n",
    "        if interactdir[revcouplestr] < bit:\n",
    "            interactdir[revcouplestr] = bit\n",
    "    else:\n",
    "        interactdir[couplestr] = bit\n",
    "toti_netw = []\n",
    "for i in interactdir:\n",
    "    str1 = i.split('|')[0]\n",
    "    str2 = i.split('|')[1]\n",
    "    bit = interactdir[i]\n",
    "    toti_netw.append([str1,str2,bit])\n",
    "\n",
    "#Create network with networkx:\n",
    "nodeslist = []\n",
    "for i in toti_netw:\n",
    "    if i[0] not in nodeslist:\n",
    "        nodeslist.append(i[0])\n",
    "    if i[1] not in nodeslist:\n",
    "        nodeslist.append(i[1])\n",
    "toti_G = nx.Graph()\n",
    "toti_G.add_nodes_from(nodeslist)\n",
    "# edge ebunch:\n",
    "edgeebun = []\n",
    "for i in toti_netw:\n",
    "    edgeebun.append((i[0],i[1], {'weight': float(i[2])}))\n",
    "toti_G.add_edges_from(edgeebun)"
   ]
  },
  {
   "cell_type": "code",
   "execution_count": 8,
   "metadata": {},
   "outputs": [
    {
     "data": {
      "image/png": "[encoded data removed]",
      "text/plain": [
       "<Figure size 432x288 with 1 Axes>"
      ]
     },
     "metadata": {},
     "output_type": "display_data"
    }
   ],
   "source": [
    "nx.draw_spring(toti_G, node_size=5)"
   ]
  },
  {
   "cell_type": "code",
   "execution_count": 9,
   "metadata": {},
   "outputs": [
    {
     "name": "stdout",
     "output_type": "stream",
     "text": [
      "145\n"
     ]
    }
   ],
   "source": [
    "#Grab largest component:\n",
    "totigiant = max(nx.connected_component_subgraphs(toti_G), key=len)\n",
    "#print(list(totigiant.nodes()))\n",
    "print(len(list(totigiant.nodes())))\n",
    "#with open('output/BlastP_connectedComp_sra/toti_connames.txt','w') as f:\n",
    "#    for item in list(totigiant.nodes()):\n",
    "#        f.write(\"%s\\n\" % item)"
   ]
  },
  {
   "cell_type": "code",
   "execution_count": 10,
   "metadata": {},
   "outputs": [],
   "source": [
    "############################### Sinai ##################################\n",
    "# Create graph from blp output.\n",
    "sinai_blp = []\n",
    "#Read in tblx output.\n",
    "with open('../../Bee_euvirDATA/data/sinai.bee.ref.BLP') as f:\n",
    "    for line in f:\n",
    "        if line.strip().split()[0] != line.strip().split()[1]:\n",
    "            sinai_blp.append(line.strip().split())\n",
    "interactdir = {}\n",
    "for i in sinai_blp:\n",
    "    couplestr = str(i[0]) + '|' + str(i[1])\n",
    "    revcouplestr = str(i[1]) + '|' + str(i[0])\n",
    "    bit = float(i[11])\n",
    "    if couplestr in interactdir:\n",
    "        if interactdir[couplestr] < bit:\n",
    "            interactdir[couplestr] = bit\n",
    "    if revcouplestr in interactdir:\n",
    "        if interactdir[revcouplestr] < bit:\n",
    "            interactdir[revcouplestr] = bit\n",
    "    else:\n",
    "        interactdir[couplestr] = bit\n",
    "sinai_netw = []\n",
    "for i in interactdir:\n",
    "    str1 = i.split('|')[0]\n",
    "    str2 = i.split('|')[1]\n",
    "    bit = interactdir[i]\n",
    "    sinai_netw.append([str1,str2,bit])\n",
    "\n",
    "#Create network with networkx:\n",
    "nodeslist = []\n",
    "for i in sinai_netw:\n",
    "    if i[0] not in nodeslist:\n",
    "        nodeslist.append(i[0])\n",
    "    if i[1] not in nodeslist:\n",
    "        nodeslist.append(i[1])\n",
    "sinai_G = nx.Graph()\n",
    "sinai_G.add_nodes_from(nodeslist)\n",
    "# edge ebunch:\n",
    "edgeebun = []\n",
    "for i in sinai_netw:\n",
    "    edgeebun.append((i[0],i[1], {'weight': float(i[2])}))\n",
    "sinai_G.add_edges_from(edgeebun)"
   ]
  },
  {
   "cell_type": "code",
   "execution_count": 11,
   "metadata": {},
   "outputs": [
    {
     "data": {
      "image/png": "[encoded data removed]",
      "text/plain": [
       "<Figure size 432x288 with 1 Axes>"
      ]
     },
     "metadata": {},
     "output_type": "display_data"
    }
   ],
   "source": [
    "nx.draw_spring(sinai_G, node_size=5)"
   ]
  },
  {
   "cell_type": "code",
   "execution_count": 12,
   "metadata": {},
   "outputs": [
    {
     "name": "stdout",
     "output_type": "stream",
     "text": [
      "61\n"
     ]
    }
   ],
   "source": [
    "#Grab largest component:\n",
    "sinaigiant = max(nx.connected_component_subgraphs(sinai_G), key=len)\n",
    "#print(list(sinaigiant.nodes()))\n",
    "print(len(list(sinaigiant.nodes())))\n",
    "#with open('output/BlastP_connectedComp_sra/sinai_connames.txt','w') as f:\n",
    "#    for item in list(sinaigiant.nodes()):\n",
    "#        f.write(\"%s\\n\" % item)"
   ]
  },
  {
   "cell_type": "code",
   "execution_count": 13,
   "metadata": {},
   "outputs": [],
   "source": [
    "############################### Partiti ##################################\n",
    "# Create graph from blp output.\n",
    "partiti_blp = []\n",
    "#Read in tblx output.\n",
    "with open('../../Bee_euvirDATA/data/partiti.bee.ref.BLP') as f:\n",
    "    for line in f:\n",
    "        if line.strip().split()[0] != line.strip().split()[1]:\n",
    "            partiti_blp.append(line.strip().split())\n",
    "interactdir = {}\n",
    "for i in partiti_blp:\n",
    "    couplestr = str(i[0]) + '|' + str(i[1])\n",
    "    revcouplestr = str(i[1]) + '|' + str(i[0])\n",
    "    bit = float(i[11])\n",
    "    if couplestr in interactdir:\n",
    "        if interactdir[couplestr] < bit:\n",
    "            interactdir[couplestr] = bit\n",
    "    if revcouplestr in interactdir:\n",
    "        if interactdir[revcouplestr] < bit:\n",
    "            interactdir[revcouplestr] = bit\n",
    "    else:\n",
    "        interactdir[couplestr] = bit\n",
    "partiti_netw = []\n",
    "for i in interactdir:\n",
    "    str1 = i.split('|')[0]\n",
    "    str2 = i.split('|')[1]\n",
    "    bit = interactdir[i]\n",
    "    partiti_netw.append([str1,str2,bit])\n",
    "\n",
    "#Create network with networkx:\n",
    "nodeslist = []\n",
    "for i in partiti_netw:\n",
    "    if i[0] not in nodeslist:\n",
    "        nodeslist.append(i[0])\n",
    "    if i[1] not in nodeslist:\n",
    "        nodeslist.append(i[1])\n",
    "partiti_G = nx.Graph()\n",
    "partiti_G.add_nodes_from(nodeslist)\n",
    "# edge ebunch:\n",
    "edgeebun = []\n",
    "for i in partiti_netw:\n",
    "    edgeebun.append((i[0],i[1], {'weight': float(i[2])}))\n",
    "partiti_G.add_edges_from(edgeebun)"
   ]
  },
  {
   "cell_type": "code",
   "execution_count": 14,
   "metadata": {},
   "outputs": [
    {
     "data": {
      "image/png": "[encoded data removed]",
      "text/plain": [
       "<Figure size 432x288 with 1 Axes>"
      ]
     },
     "metadata": {},
     "output_type": "display_data"
    }
   ],
   "source": [
    "nx.draw_spring(partiti_G, node_size=5)"
   ]
  },
  {
   "cell_type": "code",
   "execution_count": 15,
   "metadata": {},
   "outputs": [
    {
     "name": "stdout",
     "output_type": "stream",
     "text": [
      "889\n"
     ]
    }
   ],
   "source": [
    "#Grab largest component:\n",
    "partitigiant = max(nx.connected_component_subgraphs(partiti_G), key=len)\n",
    "#print(list(partitigiant.nodes()))\n",
    "print(len(list(partitigiant.nodes())))\n",
    "#with open('output/BlastP_connectedComp_sra/partiti_connames.txt','w') as f:\n",
    "#    for item in list(partitigiant.nodes()):\n",
    "#        f.write(\"%s\\n\" % item)"
   ]
  },
  {
   "cell_type": "code",
   "execution_count": 16,
   "metadata": {},
   "outputs": [],
   "source": [
    "############################### Bunya ##################################\n",
    "# Create graph from blp output.\n",
    "bunya_blp = []\n",
    "#Read in tblx output.\n",
    "with open('../../Bee_euvirDATA/data/bunya.bee.ref.BLP') as f:\n",
    "    for line in f:\n",
    "        if line.strip().split()[0] != line.strip().split()[1]:\n",
    "            bunya_blp.append(line.strip().split())\n",
    "interactdir = {}\n",
    "for i in bunya_blp:\n",
    "    couplestr = str(i[0]) + '|' + str(i[1])\n",
    "    revcouplestr = str(i[1]) + '|' + str(i[0])\n",
    "    bit = float(i[11])\n",
    "    if couplestr in interactdir:\n",
    "        if interactdir[couplestr] < bit:\n",
    "            interactdir[couplestr] = bit\n",
    "    if revcouplestr in interactdir:\n",
    "        if interactdir[revcouplestr] < bit:\n",
    "            interactdir[revcouplestr] = bit\n",
    "    else:\n",
    "        interactdir[couplestr] = bit\n",
    "bunya_netw = []\n",
    "for i in interactdir:\n",
    "    str1 = i.split('|')[0]\n",
    "    str2 = i.split('|')[1]\n",
    "    bit = interactdir[i]\n",
    "    bunya_netw.append([str1,str2,bit])\n",
    "\n",
    "#Create network with networkx:\n",
    "nodeslist = []\n",
    "for i in bunya_netw:\n",
    "    if i[0] not in nodeslist:\n",
    "        nodeslist.append(i[0])\n",
    "    if i[1] not in nodeslist:\n",
    "        nodeslist.append(i[1])\n",
    "bunya_G = nx.Graph()\n",
    "bunya_G.add_nodes_from(nodeslist)\n",
    "# edge ebunch:\n",
    "edgeebun = []\n",
    "for i in bunya_netw:\n",
    "    edgeebun.append((i[0],i[1], {'weight': float(i[2])}))\n",
    "bunya_G.add_edges_from(edgeebun)"
   ]
  },
  {
   "cell_type": "code",
   "execution_count": 17,
   "metadata": {},
   "outputs": [
    {
     "data": {
      "image/png": "[encoded data removed]",
      "text/plain": [
       "<Figure size 432x288 with 1 Axes>"
      ]
     },
     "metadata": {},
     "output_type": "display_data"
    }
   ],
   "source": [
    "nx.draw_spring(bunya_G, node_size=5)"
   ]
  },
  {
   "cell_type": "code",
   "execution_count": 18,
   "metadata": {},
   "outputs": [
    {
     "name": "stdout",
     "output_type": "stream",
     "text": [
      "24\n"
     ]
    }
   ],
   "source": [
    "#Grab largest component:\n",
    "bunyagiant = max(nx.connected_component_subgraphs(bunya_G), key=len)\n",
    "#print(list(bunyagiant.nodes()))\n",
    "print(len(list(bunyagiant.nodes())))\n",
    "#with open('output/BlastP_connectedComp_sra/bunya_connames.txt','w') as f:\n",
    "#    for item in list(bunyagiant.nodes()):\n",
    "#        f.write(\"%s\\n\" % item)"
   ]
  },
  {
   "cell_type": "code",
   "execution_count": 19,
   "metadata": {},
   "outputs": [],
   "source": [
    "############################### picorna ##################################\n",
    "# Create graph from blp output.\n",
    "picorna_blp = []\n",
    "#Read in tblx output.\n",
    "with open('../../Bee_euvirDATA/data/picorna.bee.ref.BLP') as f:\n",
    "    for line in f:\n",
    "        if line.strip().split()[0] != line.strip().split()[1]:\n",
    "            picorna_blp.append(line.strip().split())\n",
    "interactdir = {}\n",
    "for i in picorna_blp:\n",
    "    couplestr = str(i[0]) + '|' + str(i[1])\n",
    "    revcouplestr = str(i[1]) + '|' + str(i[0])\n",
    "    bit = float(i[11])\n",
    "    if couplestr in interactdir:\n",
    "        if interactdir[couplestr] < bit:\n",
    "            interactdir[couplestr] = bit\n",
    "    if revcouplestr in interactdir:\n",
    "        if interactdir[revcouplestr] < bit:\n",
    "            interactdir[revcouplestr] = bit\n",
    "    else:\n",
    "        interactdir[couplestr] = bit\n",
    "picorna_netw = []\n",
    "for i in interactdir:\n",
    "    str1 = i.split('|')[0]\n",
    "    str2 = i.split('|')[1]\n",
    "    bit = interactdir[i]\n",
    "    picorna_netw.append([str1,str2,bit])\n",
    "\n",
    "#Create network with networkx:\n",
    "nodeslist = []\n",
    "for i in picorna_netw:\n",
    "    if i[0] not in nodeslist:\n",
    "        nodeslist.append(i[0])\n",
    "    if i[1] not in nodeslist:\n",
    "        nodeslist.append(i[1])\n",
    "picorna_G = nx.Graph()\n",
    "picorna_G.add_nodes_from(nodeslist)\n",
    "# edge ebunch:\n",
    "edgeebun = []\n",
    "for i in picorna_netw:\n",
    "    edgeebun.append((i[0],i[1], {'weight': float(i[2])}))\n",
    "picorna_G.add_edges_from(edgeebun)"
   ]
  },
  {
   "cell_type": "code",
   "execution_count": 20,
   "metadata": {},
   "outputs": [
    {
     "data": {
      "image/png": "[encoded data removed]",
      "text/plain": [
       "<Figure size 432x288 with 1 Axes>"
      ]
     },
     "metadata": {},
     "output_type": "display_data"
    }
   ],
   "source": [
    "nx.draw_spring(picorna_G, node_size=5)"
   ]
  },
  {
   "cell_type": "code",
   "execution_count": 21,
   "metadata": {},
   "outputs": [
    {
     "name": "stdout",
     "output_type": "stream",
     "text": [
      "782\n"
     ]
    }
   ],
   "source": [
    "#Grab largest component:\n",
    "picornagiant = max(nx.connected_component_subgraphs(picorna_G), key=len)\n",
    "#print(list(picornagiant.nodes()))\n",
    "print(len(list(picornagiant.nodes())))\n",
    "#with open('output/BlastP_connectedComp_sra/picorna_connames.txt','w') as f:\n",
    "#    for item in list(picornagiant.nodes()):\n",
    "#        f.write(\"%s\\n\" % item)"
   ]
  },
  {
   "cell_type": "code",
   "execution_count": 22,
   "metadata": {},
   "outputs": [],
   "source": [
    "############################### rhabdo ##################################\n",
    "# Create graph from blp output.\n",
    "rhabdo_blp = []\n",
    "#Read in tblx output.\n",
    "with open('../../Bee_euvirDATA/data/rhabdo.bee.ref.BLP') as f:\n",
    "    for line in f:\n",
    "        if line.strip().split()[0] != line.strip().split()[1]:\n",
    "            rhabdo_blp.append(line.strip().split())\n",
    "interactdir = {}\n",
    "for i in rhabdo_blp:\n",
    "    couplestr = str(i[0]) + '|' + str(i[1])\n",
    "    revcouplestr = str(i[1]) + '|' + str(i[0])\n",
    "    bit = float(i[11])\n",
    "    if couplestr in interactdir:\n",
    "        if interactdir[couplestr] < bit:\n",
    "            interactdir[couplestr] = bit\n",
    "    if revcouplestr in interactdir:\n",
    "        if interactdir[revcouplestr] < bit:\n",
    "            interactdir[revcouplestr] = bit\n",
    "    else:\n",
    "        interactdir[couplestr] = bit\n",
    "rhabdo_netw = []\n",
    "for i in interactdir:\n",
    "    str1 = i.split('|')[0]\n",
    "    str2 = i.split('|')[1]\n",
    "    bit = interactdir[i]\n",
    "    rhabdo_netw.append([str1,str2,bit])\n",
    "\n",
    "#Create network with networkx:\n",
    "nodeslist = []\n",
    "for i in rhabdo_netw:\n",
    "    if i[0] not in nodeslist:\n",
    "        nodeslist.append(i[0])\n",
    "    if i[1] not in nodeslist:\n",
    "        nodeslist.append(i[1])\n",
    "rhabdo_G = nx.Graph()\n",
    "rhabdo_G.add_nodes_from(nodeslist)\n",
    "# edge ebunch:\n",
    "edgeebun = []\n",
    "for i in rhabdo_netw:\n",
    "    edgeebun.append((i[0],i[1], {'weight': float(i[2])}))\n",
    "rhabdo_G.add_edges_from(edgeebun)"
   ]
  },
  {
   "cell_type": "code",
   "execution_count": 23,
   "metadata": {},
   "outputs": [
    {
     "data": {
      "image/png": "[encoded data removed]",
      "text/plain": [
       "<Figure size 432x288 with 1 Axes>"
      ]
     },
     "metadata": {},
     "output_type": "display_data"
    }
   ],
   "source": [
    "nx.draw_spring(rhabdo_G, node_size=5)"
   ]
  },
  {
   "cell_type": "code",
   "execution_count": 24,
   "metadata": {},
   "outputs": [
    {
     "name": "stdout",
     "output_type": "stream",
     "text": [
      "738\n"
     ]
    }
   ],
   "source": [
    "#Grab largest component:\n",
    "rhabdogiant = max(nx.connected_component_subgraphs(rhabdo_G), key=len)\n",
    "#print(list(rhabdogiant.nodes()))\n",
    "print(len(list(rhabdogiant.nodes())))\n",
    "#with open('output/BlastP_connectedComp_sra/rhabdo_connames.txt','w') as f:\n",
    "#    for item in list(rhabdogiant.nodes()):\n",
    "#        f.write(\"%s\\n\" % item)"
   ]
  },
  {
   "cell_type": "code",
   "execution_count": 25,
   "metadata": {},
   "outputs": [],
   "source": [
    "############################### Orthomyxo ##################################\n",
    "# Create graph from blp output.\n",
    "ortho_blp = []\n",
    "#Read in tblx output.\n",
    "with open('../../Bee_euvirDATA/data/orthomyxo_sra.bee.ref.BLP') as f:\n",
    "    for line in f:\n",
    "        if line.strip().split()[0] != line.strip().split()[1]:\n",
    "            ortho_blp.append(line.strip().split())\n",
    "interactdir = {}\n",
    "for i in ortho_blp:\n",
    "    couplestr = str(i[0]) + '|' + str(i[1])\n",
    "    revcouplestr = str(i[1]) + '|' + str(i[0])\n",
    "    bit = float(i[11])\n",
    "    if couplestr in interactdir:\n",
    "        if interactdir[couplestr] < bit:\n",
    "            interactdir[couplestr] = bit\n",
    "    if revcouplestr in interactdir:\n",
    "        if interactdir[revcouplestr] < bit:\n",
    "            interactdir[revcouplestr] = bit\n",
    "    else:\n",
    "        interactdir[couplestr] = bit\n",
    "ortho_netw = []\n",
    "for i in interactdir:\n",
    "    str1 = i.split('|')[0]\n",
    "    str2 = i.split('|')[1]\n",
    "    bit = interactdir[i]\n",
    "    ortho_netw.append([str1,str2,bit])\n",
    "\n",
    "#Create network with networkx:\n",
    "nodeslist = []\n",
    "for i in ortho_netw:\n",
    "    if i[0] not in nodeslist:\n",
    "        nodeslist.append(i[0])\n",
    "    if i[1] not in nodeslist:\n",
    "        nodeslist.append(i[1])\n",
    "ortho_G = nx.Graph()\n",
    "ortho_G.add_nodes_from(nodeslist)\n",
    "# edge ebunch:\n",
    "edgeebun = []\n",
    "for i in ortho_netw:\n",
    "    edgeebun.append((i[0],i[1], {'weight': float(i[2])}))\n",
    "ortho_G.add_edges_from(edgeebun)"
   ]
  },
  {
   "cell_type": "code",
   "execution_count": 26,
   "metadata": {},
   "outputs": [
    {
     "data": {
      "image/png": "[encoded data removed]",
      "text/plain": [
       "<Figure size 432x288 with 1 Axes>"
      ]
     },
     "metadata": {},
     "output_type": "display_data"
    }
   ],
   "source": [
    "nx.draw_spring(ortho_G, node_size=5)"
   ]
  },
  {
   "cell_type": "code",
   "execution_count": 27,
   "metadata": {},
   "outputs": [
    {
     "name": "stdout",
     "output_type": "stream",
     "text": [
      "981\n"
     ]
    }
   ],
   "source": [
    "#Grab largest component:\n",
    "orthogiant = max(nx.connected_component_subgraphs(ortho_G), key=len)\n",
    "#print(list(orthogiant.nodes()))\n",
    "print(len(list(orthogiant.nodes())))\n",
    "#with open('output/BlastP_connectedComp_sra/orthosra_connames.txt','w') as f:\n",
    "#    for item in list(orthogiant.nodes()):\n",
    "#        f.write(\"%s\\n\" % item)"
   ]
  },
  {
   "cell_type": "code",
   "execution_count": 29,
   "metadata": {},
   "outputs": [],
   "source": [
    "############################### Sinai and the S (recombination) ##################################\n",
    "# Create graph from blp output.\n",
    "sinai_blp = []\n",
    "#Read in tblx output.\n",
    "with open('../../Bee_euvirDATA/data/Sinai_recomb_ref.blp') as f:\n",
    "    for line in f:\n",
    "        if line.strip().split()[0] != line.strip().split()[1]:\n",
    "            sinai_blp.append(line.strip().split())\n",
    "interactdir = {}\n",
    "for i in sinai_blp:\n",
    "    couplestr = str(i[0]) + '|' + str(i[1])\n",
    "    revcouplestr = str(i[1]) + '|' + str(i[0])\n",
    "    bit = float(i[11])\n",
    "    if couplestr in interactdir:\n",
    "        if interactdir[couplestr] < bit:\n",
    "            interactdir[couplestr] = bit\n",
    "    if revcouplestr in interactdir:\n",
    "        if interactdir[revcouplestr] < bit:\n",
    "            interactdir[revcouplestr] = bit\n",
    "    else:\n",
    "        interactdir[couplestr] = bit\n",
    "sinai_netw = []\n",
    "for i in interactdir:\n",
    "    str1 = i.split('|')[0]\n",
    "    str2 = i.split('|')[1]\n",
    "    bit = interactdir[i]\n",
    "    sinai_netw.append([str1,str2,bit])\n",
    "\n",
    "#Create network with networkx:\n",
    "nodeslist = []\n",
    "for i in sinai_netw:\n",
    "    if i[0] not in nodeslist:\n",
    "        nodeslist.append(i[0])\n",
    "    if i[1] not in nodeslist:\n",
    "        nodeslist.append(i[1])\n",
    "sinai_G = nx.Graph()\n",
    "sinai_G.add_nodes_from(nodeslist)\n",
    "# edge ebunch:\n",
    "edgeebun = []\n",
    "for i in sinai_netw:\n",
    "    edgeebun.append((i[0],i[1], {'weight': float(i[2])}))\n",
    "sinai_G.add_edges_from(edgeebun)"
   ]
  },
  {
   "cell_type": "code",
   "execution_count": 30,
   "metadata": {},
   "outputs": [
    {
     "data": {
      "image/png": "[encoded data removed]",
      "text/plain": [
       "<Figure size 432x288 with 1 Axes>"
      ]
     },
     "metadata": {},
     "output_type": "display_data"
    }
   ],
   "source": [
    "nx.draw_spring(sinai_G, node_size=5)"
   ]
  },
  {
   "cell_type": "code",
   "execution_count": 31,
   "metadata": {},
   "outputs": [
    {
     "name": "stdout",
     "output_type": "stream",
     "text": [
      "61\n"
     ]
    }
   ],
   "source": [
    "#Since we don't want the largest connected component (the polymerase, which is to divergent for our recombinant)\n",
    "#We scan for the capsid region\n",
    "for i in sorted(nx.connected_components(sinai_G), key=len, reverse=True):\n",
    "    for j in i:\n",
    "        if 'Belgium' in j:\n",
    "            sinaiconcomlist = list(i)\n",
    "print(len(sinaiconcomlist))\n",
    "#with open('output/BlastP_connectedComp_sra/sinai_recomb_S.txt','w') as f:\n",
    "#    for item in sinaiconcomlist:\n",
    "#        f.write(\"%s\\n\" % item)"
   ]
  }
 ],
 "metadata": {
  "kernelspec": {
   "display_name": "Python 3",
   "language": "python",
   "name": "python3"
  },
  "language_info": {
   "codemirror_mode": {
    "name": "ipython",
    "version": 3
   },
   "file_extension": ".py",
   "mimetype": "text/x-python",
   "name": "python",
   "nbconvert_exporter": "python",
   "pygments_lexer": "ipython3",
   "version": "3.9.1"
  }
 },
 "nbformat": 4,
 "nbformat_minor": 4
}
