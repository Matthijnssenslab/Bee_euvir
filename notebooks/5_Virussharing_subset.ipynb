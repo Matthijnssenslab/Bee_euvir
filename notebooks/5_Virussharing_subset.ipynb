{
 "cells": [
  {
   "cell_type": "code",
   "execution_count": 140,
   "metadata": {},
   "outputs": [],
   "source": [
    "import pandas as pd\n",
    "import numpy as np\n",
    "import seaborn as sns\n",
    "import matplotlib.pyplot as plt\n",
    "import csv\n",
    "import itertools"
   ]
  },
  {
   "cell_type": "code",
   "execution_count": 141,
   "metadata": {},
   "outputs": [],
   "source": [
    "## Subset both the taxonomy dataframes.\n",
    "nodeTax = pd.read_csv('../data/notebooks_out/viral_df_taxonomy.csv',index_col=0)\n",
    "\n",
    "# A few rules for subsetting.\n",
    "\n",
    "# Has to have family assigned at least\n",
    "nodeTax = nodeTax[nodeTax['family'] != 'Unclassified']\n",
    "# Has to fall in a 'insect infecting-like family'.\n",
    "insectVirFam = ['Parvoviridae','Dicistroviridae','Rhabdoviridae',\n",
    "               'Iflaviridae','Iridoviridae','Orthomyxoviridae','Nodaviridae','Phenuiviridae','Astroviridae']\n",
    "nodeTax = nodeTax[nodeTax['family'].isin(insectVirFam)]\n",
    "\n",
    "sraTax = pd.read_csv('../data/notebooks_out/viral_df_taxonomy_SRA.csv',index_col=0)\n",
    "sraTax = sraTax[sraTax['family'] != 'Unclassified']\n",
    "sraTax = sraTax[sraTax['family'].isin(insectVirFam)]"
   ]
  },
  {
   "cell_type": "code",
   "execution_count": 142,
   "metadata": {},
   "outputs": [
    {
     "data": {
      "text/html": [
       "<div>\n",
       "<style scoped>\n",
       "    .dataframe tbody tr th:only-of-type {\n",
       "        vertical-align: middle;\n",
       "    }\n",
       "\n",
       "    .dataframe tbody tr th {\n",
       "        vertical-align: top;\n",
       "    }\n",
       "\n",
       "    .dataframe thead th {\n",
       "        text-align: right;\n",
       "    }\n",
       "</style>\n",
       "<table border=\"1\" class=\"dataframe\">\n",
       "  <thead>\n",
       "    <tr style=\"text-align: right;\">\n",
       "      <th></th>\n",
       "      <th>class</th>\n",
       "      <th>family</th>\n",
       "      <th>genus</th>\n",
       "      <th>no rank</th>\n",
       "      <th>order</th>\n",
       "      <th>phylum</th>\n",
       "      <th>species</th>\n",
       "      <th>subfamily</th>\n",
       "      <th>subphylum</th>\n",
       "      <th>superkingdom</th>\n",
       "    </tr>\n",
       "  </thead>\n",
       "  <tbody>\n",
       "    <tr>\n",
       "      <th>BP10_NODE_253_length_1698_cov_0_733672</th>\n",
       "      <td>NaN</td>\n",
       "      <td>NaN</td>\n",
       "      <td>NaN</td>\n",
       "      <td>NaN</td>\n",
       "      <td>NaN</td>\n",
       "      <td>NaN</td>\n",
       "      <td>NaN</td>\n",
       "      <td>NaN</td>\n",
       "      <td>NaN</td>\n",
       "      <td>NaN</td>\n",
       "    </tr>\n",
       "    <tr>\n",
       "      <th>BP10_NODE_316_length_1451_cov_0_490977</th>\n",
       "      <td>NaN</td>\n",
       "      <td>NaN</td>\n",
       "      <td>NaN</td>\n",
       "      <td>NaN</td>\n",
       "      <td>NaN</td>\n",
       "      <td>NaN</td>\n",
       "      <td>NaN</td>\n",
       "      <td>NaN</td>\n",
       "      <td>NaN</td>\n",
       "      <td>NaN</td>\n",
       "    </tr>\n",
       "    <tr>\n",
       "      <th>BP10_NODE_548_length_1036_cov_0_413115</th>\n",
       "      <td>NaN</td>\n",
       "      <td>NaN</td>\n",
       "      <td>NaN</td>\n",
       "      <td>NaN</td>\n",
       "      <td>NaN</td>\n",
       "      <td>NaN</td>\n",
       "      <td>NaN</td>\n",
       "      <td>NaN</td>\n",
       "      <td>NaN</td>\n",
       "      <td>NaN</td>\n",
       "    </tr>\n",
       "    <tr>\n",
       "      <th>BP11_NODE_41_length_1174_cov_1_003799</th>\n",
       "      <td>NaN</td>\n",
       "      <td>NaN</td>\n",
       "      <td>NaN</td>\n",
       "      <td>NaN</td>\n",
       "      <td>NaN</td>\n",
       "      <td>NaN</td>\n",
       "      <td>NaN</td>\n",
       "      <td>NaN</td>\n",
       "      <td>NaN</td>\n",
       "      <td>NaN</td>\n",
       "    </tr>\n",
       "    <tr>\n",
       "      <th>BP12_NODE_196_length_807_cov_0_492711</th>\n",
       "      <td>NaN</td>\n",
       "      <td>NaN</td>\n",
       "      <td>NaN</td>\n",
       "      <td>NaN</td>\n",
       "      <td>NaN</td>\n",
       "      <td>NaN</td>\n",
       "      <td>NaN</td>\n",
       "      <td>NaN</td>\n",
       "      <td>NaN</td>\n",
       "      <td>NaN</td>\n",
       "    </tr>\n",
       "    <tr>\n",
       "      <th>...</th>\n",
       "      <td>...</td>\n",
       "      <td>...</td>\n",
       "      <td>...</td>\n",
       "      <td>...</td>\n",
       "      <td>...</td>\n",
       "      <td>...</td>\n",
       "      <td>...</td>\n",
       "      <td>...</td>\n",
       "      <td>...</td>\n",
       "      <td>...</td>\n",
       "    </tr>\n",
       "    <tr>\n",
       "      <th>SRR935178.Contig_39352_166.482_length_559</th>\n",
       "      <td>NaN</td>\n",
       "      <td>NaN</td>\n",
       "      <td>NaN</td>\n",
       "      <td>NaN</td>\n",
       "      <td>NaN</td>\n",
       "      <td>NaN</td>\n",
       "      <td>NaN</td>\n",
       "      <td>NaN</td>\n",
       "      <td>NaN</td>\n",
       "      <td>NaN</td>\n",
       "    </tr>\n",
       "    <tr>\n",
       "      <th>SRR935178.Contig_8111_54.3373_length_521</th>\n",
       "      <td>NaN</td>\n",
       "      <td>NaN</td>\n",
       "      <td>NaN</td>\n",
       "      <td>NaN</td>\n",
       "      <td>NaN</td>\n",
       "      <td>NaN</td>\n",
       "      <td>NaN</td>\n",
       "      <td>NaN</td>\n",
       "      <td>NaN</td>\n",
       "      <td>NaN</td>\n",
       "    </tr>\n",
       "    <tr>\n",
       "      <th>SRR974922.Contig_2139_93.6595_length_6328</th>\n",
       "      <td>NaN</td>\n",
       "      <td>NaN</td>\n",
       "      <td>NaN</td>\n",
       "      <td>NaN</td>\n",
       "      <td>NaN</td>\n",
       "      <td>NaN</td>\n",
       "      <td>NaN</td>\n",
       "      <td>NaN</td>\n",
       "      <td>NaN</td>\n",
       "      <td>NaN</td>\n",
       "    </tr>\n",
       "    <tr>\n",
       "      <th>SRR974923.Contig_24030_37.9485_length_2041</th>\n",
       "      <td>NaN</td>\n",
       "      <td>NaN</td>\n",
       "      <td>NaN</td>\n",
       "      <td>NaN</td>\n",
       "      <td>NaN</td>\n",
       "      <td>NaN</td>\n",
       "      <td>NaN</td>\n",
       "      <td>NaN</td>\n",
       "      <td>NaN</td>\n",
       "      <td>NaN</td>\n",
       "    </tr>\n",
       "    <tr>\n",
       "      <th>SRR974923.Contig_25646_47.5478_length_940</th>\n",
       "      <td>NaN</td>\n",
       "      <td>NaN</td>\n",
       "      <td>NaN</td>\n",
       "      <td>NaN</td>\n",
       "      <td>NaN</td>\n",
       "      <td>NaN</td>\n",
       "      <td>NaN</td>\n",
       "      <td>NaN</td>\n",
       "      <td>NaN</td>\n",
       "      <td>NaN</td>\n",
       "    </tr>\n",
       "  </tbody>\n",
       "</table>\n",
       "<p>2331 rows × 10 columns</p>\n",
       "</div>"
      ],
      "text/plain": [
       "                                           class family genus no rank order  \\\n",
       "BP10_NODE_253_length_1698_cov_0_733672       NaN    NaN   NaN     NaN   NaN   \n",
       "BP10_NODE_316_length_1451_cov_0_490977       NaN    NaN   NaN     NaN   NaN   \n",
       "BP10_NODE_548_length_1036_cov_0_413115       NaN    NaN   NaN     NaN   NaN   \n",
       "BP11_NODE_41_length_1174_cov_1_003799        NaN    NaN   NaN     NaN   NaN   \n",
       "BP12_NODE_196_length_807_cov_0_492711        NaN    NaN   NaN     NaN   NaN   \n",
       "...                                          ...    ...   ...     ...   ...   \n",
       "SRR935178.Contig_39352_166.482_length_559    NaN    NaN   NaN     NaN   NaN   \n",
       "SRR935178.Contig_8111_54.3373_length_521     NaN    NaN   NaN     NaN   NaN   \n",
       "SRR974922.Contig_2139_93.6595_length_6328    NaN    NaN   NaN     NaN   NaN   \n",
       "SRR974923.Contig_24030_37.9485_length_2041   NaN    NaN   NaN     NaN   NaN   \n",
       "SRR974923.Contig_25646_47.5478_length_940    NaN    NaN   NaN     NaN   NaN   \n",
       "\n",
       "                                           phylum species subfamily subphylum  \\\n",
       "BP10_NODE_253_length_1698_cov_0_733672        NaN     NaN       NaN       NaN   \n",
       "BP10_NODE_316_length_1451_cov_0_490977        NaN     NaN       NaN       NaN   \n",
       "BP10_NODE_548_length_1036_cov_0_413115        NaN     NaN       NaN       NaN   \n",
       "BP11_NODE_41_length_1174_cov_1_003799         NaN     NaN       NaN       NaN   \n",
       "BP12_NODE_196_length_807_cov_0_492711         NaN     NaN       NaN       NaN   \n",
       "...                                           ...     ...       ...       ...   \n",
       "SRR935178.Contig_39352_166.482_length_559     NaN     NaN       NaN       NaN   \n",
       "SRR935178.Contig_8111_54.3373_length_521      NaN     NaN       NaN       NaN   \n",
       "SRR974922.Contig_2139_93.6595_length_6328     NaN     NaN       NaN       NaN   \n",
       "SRR974923.Contig_24030_37.9485_length_2041    NaN     NaN       NaN       NaN   \n",
       "SRR974923.Contig_25646_47.5478_length_940     NaN     NaN       NaN       NaN   \n",
       "\n",
       "                                           superkingdom  \n",
       "BP10_NODE_253_length_1698_cov_0_733672              NaN  \n",
       "BP10_NODE_316_length_1451_cov_0_490977              NaN  \n",
       "BP10_NODE_548_length_1036_cov_0_413115              NaN  \n",
       "BP11_NODE_41_length_1174_cov_1_003799               NaN  \n",
       "BP12_NODE_196_length_807_cov_0_492711               NaN  \n",
       "...                                                 ...  \n",
       "SRR935178.Contig_39352_166.482_length_559           NaN  \n",
       "SRR935178.Contig_8111_54.3373_length_521            NaN  \n",
       "SRR974922.Contig_2139_93.6595_length_6328           NaN  \n",
       "SRR974923.Contig_24030_37.9485_length_2041          NaN  \n",
       "SRR974923.Contig_25646_47.5478_length_940           NaN  \n",
       "\n",
       "[2331 rows x 10 columns]"
      ]
     },
     "execution_count": 142,
     "metadata": {},
     "output_type": "execute_result"
    }
   ],
   "source": [
    "nodeTax + sraTax"
   ]
  },
  {
   "cell_type": "code",
   "execution_count": 143,
   "metadata": {},
   "outputs": [],
   "source": [
    "#Read in coverage matrix.\n",
    "covmatsra = pd.read_csv(\"../data/Pcoa/SRA_df_coverage_lengthnorm.tsv\", sep=',', index_col=0)\n",
    "covmatbe = pd.read_csv(\"../data/Pcoa/flembee_df_coverage_lengthnorm.tsv\", sep=\",\", index_col=0)\n",
    "covmatbe = covmatbe.T\n",
    "covmat = pd.concat([covmatsra, covmatbe], axis=0, join='outer')\n",
    "covmat = covmat[covmat.columns.intersection(list(sraTax.index) + list(nodeTax.index))]"
   ]
  },
  {
   "cell_type": "code",
   "execution_count": 144,
   "metadata": {},
   "outputs": [],
   "source": [
    "#Now we need information on the eukaryotic family of the host to begin with. For now we keep the flemish bee samples as seperate from apidae.\n",
    "metadatdf = pd.read_csv(\"../data/Metadata_location_year_study_kind.csv\", sep=\";\")\n",
    "list(metadatdf[metadatdf['Tax_family'] == 'Formicidae']['Run'])\n",
    "\n",
    "#We will only seperate families where we have more than 10 samples each, the others will be collapsed in an 'other'group.\n",
    "#To start we just take the contig representatives.\n",
    "Belgium_runs = list(covmatbe.index)\n",
    "Formicidae_runs = list(metadatdf[metadatdf['Tax_family'] == 'Formicidae']['Run'])\n",
    "Apidae_runs = list(metadatdf[metadatdf['Tax_family'] == 'Apidae']['Run'])\n",
    "Vespidae_runs = list(metadatdf[metadatdf['Tax_family'] == 'Vespidae']['Run'])\n",
    "Halictidae_runs = list(metadatdf[metadatdf['Tax_family'] == 'Halictidae']['Run'])\n",
    "Braconidae_runs = list(metadatdf[metadatdf['Tax_family'] == 'Braconidae']['Run'])\n",
    "Megachilidae_runs = list(metadatdf[metadatdf['Tax_family'] == 'Megachilidae']['Run'])\n",
    "Pteromalidae_runs = list(metadatdf[metadatdf['Tax_family'] == 'Pteromalidae']['Run'])\n",
    "Cephidae_runs = list(metadatdf[metadatdf['Tax_family'] == 'Cephidae']['Run'])\n",
    "Figitidae_runs = list(metadatdf[metadatdf['Tax_family'] == 'Figitidae']['Run'])\n",
    "Gathered = Belgium_runs + Formicidae_runs + Apidae_runs + Vespidae_runs + Halictidae_runs + Braconidae_runs + Megachilidae_runs + Pteromalidae_runs + Cephidae_runs + Figitidae_runs\n",
    "Others_runs = []\n",
    "for i in list(metadatdf['Run']):\n",
    "    if i not in Gathered:\n",
    "        Others_runs.append(i)"
   ]
  },
  {
   "cell_type": "code",
   "execution_count": 145,
   "metadata": {},
   "outputs": [
    {
     "data": {
      "text/plain": [
       "True"
      ]
     },
     "execution_count": 145,
     "metadata": {},
     "output_type": "execute_result"
    }
   ],
   "source": [
    "#Sanity test to see if we didn't miss anything:\n",
    "len(covmat) == len(Belgium_runs) + len(Formicidae_runs) + len(Apidae_runs) + len(Vespidae_runs) + len(Halictidae_runs) + len(Braconidae_runs) + len(Megachilidae_runs) + len(Pteromalidae_runs) + len(Cephidae_runs) + len(Figitidae_runs) + len(Others_runs)"
   ]
  },
  {
   "cell_type": "code",
   "execution_count": 146,
   "metadata": {},
   "outputs": [],
   "source": [
    "#Now subset the coverage matrix, so we have 1 matrix / eukaryotic family.\n",
    "Belgium_cov = covmat[covmat.index.isin(Belgium_runs)]\n",
    "Formicidae_cov = covmat[covmat.index.isin(Formicidae_runs)]\n",
    "Apidae_cov = covmat[covmat.index.isin(Apidae_runs)]\n",
    "Vespidae_cov = covmat[covmat.index.isin(Vespidae_runs)]\n",
    "Halictidae_cov = covmat[covmat.index.isin(Halictidae_runs)]\n",
    "Braconidae_cov = covmat[covmat.index.isin(Braconidae_runs)]\n",
    "Megachilidae_cov = covmat[covmat.index.isin(Megachilidae_runs)]\n",
    "Pteromalidae_cov = covmat[covmat.index.isin(Pteromalidae_runs)]\n",
    "Cephidae_cov = covmat[covmat.index.isin(Cephidae_runs)]\n",
    "Figitidae_cov = covmat[covmat.index.isin(Figitidae_runs)]\n",
    "Others_cov = covmat[covmat.index.isin(Others_runs)]"
   ]
  },
  {
   "cell_type": "code",
   "execution_count": 147,
   "metadata": {},
   "outputs": [
    {
     "data": {
      "text/plain": [
       "<AxesSubplot:>"
      ]
     },
     "execution_count": 147,
     "metadata": {},
     "output_type": "execute_result"
    },
    {
     "data": {
      "image/png": "[encoded data removed]",
      "text/plain": [
       "<Figure size 432x288 with 1 Axes>"
      ]
     },
     "metadata": {
      "needs_background": "light"
     },
     "output_type": "display_data"
    }
   ],
   "source": [
    "#Just get some barplots on the samples per eukaryotic family. This is quite skewed, but we assume that they are sampled completely. (This is a big flaw, but can't do anything about it).\n",
    "famlen = [len(Apidae_cov) + len(Belgium_cov), len(Formicidae_cov),len(Vespidae_cov),len(Braconidae_cov),len(Halictidae_cov),len(Pteromalidae_cov),len(Others_cov),len(Megachilidae_cov),len(Cephidae_cov),len(Figitidae_cov)]\n",
    "g = sns.barplot(x = ['Apidae_cov','Formicidae','Vespidae_cov','Braconidae_cov','Halictidae_cov','Pteromalidae_cov','Others_cov','Megachilidae_cov','Cephidae_cov','Figitidae_cov'], y=famlen)\n",
    "g.set_xticklabels(g.get_xticklabels(), rotation=90)\n",
    "g"
   ]
  },
  {
   "cell_type": "code",
   "execution_count": 148,
   "metadata": {},
   "outputs": [],
   "source": [
    "#Now get lists of the representative contigs in each of the families.\n",
    "# Depcrecated since we drop directionality anyway.\n",
    "\n",
    "Belgium_contigs = []\n",
    "for i in list(covmat.columns):\n",
    "    if 'BP' in i or 'BeeP' in i:\n",
    "        Belgium_contigs.append(i)\n",
    "Formicidae_contigs  = []\n",
    "for i in list(covmat.columns):\n",
    "    if i.split('.')[0] in Formicidae_runs:\n",
    "        Formicidae_contigs.append(i)\n",
    "Apidae_contigs  = []\n",
    "for i in list(covmat.columns):\n",
    "    if i.split('.')[0] in Apidae_runs:\n",
    "        Apidae_contigs.append(i)\n",
    "Vespidae_contigs  = []\n",
    "for i in list(covmat.columns):\n",
    "    if i.split('.')[0] in Vespidae_runs:\n",
    "        Vespidae_contigs.append(i)\n",
    "Halictidae_contigs  = []\n",
    "for i in list(covmat.columns):\n",
    "    if i.split('.')[0] in Halictidae_runs:\n",
    "        Halictidae_contigs.append(i)\n",
    "Braconidae_contigs  = []\n",
    "for i in list(covmat.columns):\n",
    "    if i.split('.')[0] in Braconidae_runs:\n",
    "        Braconidae_contigs.append(i)\n",
    "Megachilidae_contigs  = []\n",
    "for i in list(covmat.columns):\n",
    "    if i.split('.')[0] in Megachilidae_runs:\n",
    "        Megachilidae_contigs.append(i)\n",
    "Pteromalidae_contigs  = []\n",
    "for i in list(covmat.columns):\n",
    "    if i.split('.')[0] in Pteromalidae_runs:\n",
    "        Pteromalidae_contigs.append(i)\n",
    "Cephidae_contigs  = []\n",
    "for i in list(covmat.columns):\n",
    "    if i.split('.')[0] in Cephidae_runs:\n",
    "        Cephidae_contigs.append(i)\n",
    "Figitidae_contigs  = []\n",
    "for i in list(covmat.columns):\n",
    "    if i.split('.')[0] in Figitidae_runs:\n",
    "        Figitidae_contigs.append(i)\n",
    "Others_contigs = []\n",
    "for i in list(covmat.columns):\n",
    "    if i.split('.')[0] in Others_runs:\n",
    "        Others_contigs.append(i)"
   ]
  },
  {
   "cell_type": "code",
   "execution_count": 149,
   "metadata": {},
   "outputs": [
    {
     "name": "stdout",
     "output_type": "stream",
     "text": [
      "[1660, 399, 100, 79, 23, 14, 37, 2, 3, 0]\n",
      "2317\n"
     ]
    },
    {
     "data": {
      "image/png": "[encoded data removed]",
      "text/plain": [
       "<Figure size 432x288 with 1 Axes>"
      ]
     },
     "metadata": {
      "needs_background": "light"
     },
     "output_type": "display_data"
    }
   ],
   "source": [
    "famlen = [len(Apidae_contigs) + len(Belgium_contigs), len(Formicidae_contigs),len(Braconidae_contigs),len(Others_contigs), len(Vespidae_contigs),len(Figitidae_contigs),len(Pteromalidae_contigs),len(Halictidae_contigs),len(Megachilidae_contigs),len(Cephidae_contigs)]\n",
    "print(famlen)\n",
    "g = sns.barplot(x = ['Apidae_contigs','Formicidae','Braconidae_contigs','Others_contigs','Vespidae_contigs','Figitidae_contigs','Pteromalidae_contigs','Halictidae_contigs','Megachilidae_contigs','Cephidae_contigs'], y=famlen)\n",
    "g.set_xticklabels(g.get_xticklabels(), rotation=90)\n",
    "g\n",
    "print(sum(famlen))"
   ]
  },
  {
   "cell_type": "code",
   "execution_count": 150,
   "metadata": {},
   "outputs": [
    {
     "data": {
      "text/plain": [
       "True"
      ]
     },
     "execution_count": 150,
     "metadata": {},
     "output_type": "execute_result"
    }
   ],
   "source": [
    "#Sanity test to see if we have all contigs.\n",
    "sum(famlen) == len(covmat.columns)"
   ]
  },
  {
   "cell_type": "code",
   "execution_count": 151,
   "metadata": {},
   "outputs": [
    {
     "data": {
      "text/plain": [
       "[['Apidae', 'Formicidae', 85],\n",
       " ['Apidae', 'Vespidae', 98],\n",
       " ['Apidae', 'Halictidae', 8],\n",
       " ['Apidae', 'Braconidae', 156],\n",
       " ['Apidae', 'Megachilidae', 115],\n",
       " ['Apidae', 'Pteromalidae', 117],\n",
       " ['Apidae', 'Cephidae', 109],\n",
       " ['Apidae', 'Figitidae', 31],\n",
       " ['Apidae', 'Others', 119],\n",
       " ['Formicidae', 'Vespidae', 68],\n",
       " ['Formicidae', 'Halictidae', 6],\n",
       " ['Formicidae', 'Braconidae', 95],\n",
       " ['Formicidae', 'Megachilidae', 72],\n",
       " ['Formicidae', 'Pteromalidae', 76],\n",
       " ['Formicidae', 'Cephidae', 65],\n",
       " ['Formicidae', 'Figitidae', 27],\n",
       " ['Formicidae', 'Others', 85],\n",
       " ['Vespidae', 'Halictidae', 6],\n",
       " ['Vespidae', 'Braconidae', 111],\n",
       " ['Vespidae', 'Megachilidae', 86],\n",
       " ['Vespidae', 'Pteromalidae', 85],\n",
       " ['Vespidae', 'Cephidae', 76],\n",
       " ['Vespidae', 'Figitidae', 24],\n",
       " ['Vespidae', 'Others', 101],\n",
       " ['Halictidae', 'Braconidae', 8],\n",
       " ['Halictidae', 'Megachilidae', 6],\n",
       " ['Halictidae', 'Pteromalidae', 7],\n",
       " ['Halictidae', 'Cephidae', 5],\n",
       " ['Halictidae', 'Figitidae', 3],\n",
       " ['Halictidae', 'Others', 8],\n",
       " ['Braconidae', 'Megachilidae', 128],\n",
       " ['Braconidae', 'Pteromalidae', 140],\n",
       " ['Braconidae', 'Cephidae', 128],\n",
       " ['Braconidae', 'Figitidae', 35],\n",
       " ['Braconidae', 'Others', 145],\n",
       " ['Megachilidae', 'Pteromalidae', 106],\n",
       " ['Megachilidae', 'Cephidae', 93],\n",
       " ['Megachilidae', 'Figitidae', 27],\n",
       " ['Megachilidae', 'Others', 99],\n",
       " ['Pteromalidae', 'Cephidae', 101],\n",
       " ['Pteromalidae', 'Figitidae', 32],\n",
       " ['Pteromalidae', 'Others', 111],\n",
       " ['Cephidae', 'Figitidae', 27],\n",
       " ['Cephidae', 'Others', 92],\n",
       " ['Figitidae', 'Others', 30]]"
      ]
     },
     "execution_count": 151,
     "metadata": {},
     "output_type": "execute_result"
    }
   ],
   "source": [
    "#now evaluate presence (defined as a relative count > 0.1 (assuming average of 100bp reads, this would be 10x covered, and the average is actually ~189))\n",
    "#This treshold needs to be true for 10% of the samples of a particular family, and then it's appended.\n",
    "#Create an edge list\n",
    "\n",
    "# Combine the contigs.\n",
    "\n",
    "Combinations = ['Apidae','Formicidae','Vespidae','Halictidae','Braconidae','Megachilidae','Pteromalidae','Cephidae','Figitidae','Others']\n",
    "Apidae2_cov = pd.concat([Apidae_cov, Belgium_cov])\n",
    "\n",
    "dfDic = {\n",
    "    'Apidae': Apidae2_cov,\n",
    "    'Formicidae': Formicidae_cov,\n",
    "    'Vespidae': Vespidae_cov,\n",
    "    'Halictidae': Halictidae_cov,\n",
    "    'Braconidae': Braconidae_cov,\n",
    "    'Megachilidae': Megachilidae_cov,\n",
    "    'Pteromalidae': Pteromalidae_cov,\n",
    "    'Cephidae': Cephidae_cov,\n",
    "    'Figitidae': Figitidae_cov,\n",
    "    'Others': Others_cov \n",
    "}\n",
    "\n",
    "\n",
    "contigs = Belgium_contigs + \\\n",
    "    Formicidae_contigs + \\\n",
    "    Apidae_contigs + \\\n",
    "    Vespidae_contigs + \\\n",
    "    Halictidae_contigs + \\\n",
    "    Braconidae_contigs + \\\n",
    "    Megachilidae_contigs + \\\n",
    "    Pteromalidae_contigs + \\\n",
    "    Cephidae_contigs + \\\n",
    "    Figitidae_contigs + \\\n",
    "    Others_contigs\n",
    "\n",
    "ShareLis = []\n",
    "for comb in list(itertools.combinations(Combinations, 2)):\n",
    "    df1 = dfDic[comb[0]]\n",
    "    df2 = dfDic[comb[1]]\n",
    "    \n",
    "    df1Ret = df1[df1 > 0.1].count() > (0.05 * len(df1))\n",
    "    df1_contigs = list(df1Ret[df1Ret!= False].index)\n",
    "    \n",
    "    df2Ret = df2[df2 > 0.1].count() > (0.05 * len(df2))\n",
    "    df2_contigs = list(df2Ret[df2Ret!= False].index)\n",
    "    \n",
    "    SharedC = len(set.intersection(set(df1_contigs), set(df2_contigs)))\n",
    "    ShareLis.append([comb[0], comb[1], SharedC])\n",
    "ShareLis"
   ]
  },
  {
   "cell_type": "code",
   "execution_count": 153,
   "metadata": {},
   "outputs": [
    {
     "name": "stdout",
     "output_type": "stream",
     "text": [
      "{'Apidae': 886, 'Formicidae': 142, 'Vespidae': 164, 'Halictidae': 9, 'Braconidae': 396, 'Megachilidae': 217, 'Pteromalidae': 324, 'Cephidae': 250, 'Figitidae': 96, 'Others': 221}\n"
     ]
    }
   ],
   "source": [
    "# Get number of contigs that exceed the threshold per family.\n",
    "famDic = {}\n",
    "for i in dfDic:\n",
    "    stat = dfDic[i][dfDic[i] > 0.1].count() > (0.05 * len(dfDic[i]))\n",
    "    famDic[i] = sum(stat)\n",
    "print(famDic)"
   ]
  },
  {
   "cell_type": "code",
   "execution_count": 154,
   "metadata": {},
   "outputs": [],
   "source": [
    "#Write to file, and process in cytoscape\n",
    "with open('../networks/Hymenoptera_insect.csv', 'w', newline='') as csvfile:\n",
    "    writer = csv.writer(csvfile)\n",
    "    writer.writerows(ShareLis)"
   ]
  },
  {
   "cell_type": "code",
   "execution_count": 155,
   "metadata": {},
   "outputs": [
    {
     "data": {
      "text/plain": [
       "[['Mellifera', 'Ceratina', 135],\n",
       " ['Mellifera', 'Tetragonula', 9],\n",
       " ['Mellifera', 'Bombus', 98],\n",
       " ['Mellifera', 'ApisCerana', 150],\n",
       " ['Mellifera', 'Euglossa', 45],\n",
       " ['Mellifera', 'Eulaema', 80],\n",
       " ['Mellifera', 'Eucera', 23],\n",
       " ['Mellifera', 'ApisFlorea', 463],\n",
       " ['Mellifera', 'Lepidotrigona', 160],\n",
       " ['Ceratina', 'Tetragonula', 10],\n",
       " ['Ceratina', 'Bombus', 115],\n",
       " ['Ceratina', 'ApisCerana', 113],\n",
       " ['Ceratina', 'Euglossa', 58],\n",
       " ['Ceratina', 'Eulaema', 84],\n",
       " ['Ceratina', 'Eucera', 27],\n",
       " ['Ceratina', 'ApisFlorea', 117],\n",
       " ['Ceratina', 'Lepidotrigona', 153],\n",
       " ['Tetragonula', 'Bombus', 10],\n",
       " ['Tetragonula', 'ApisCerana', 8],\n",
       " ['Tetragonula', 'Euglossa', 8],\n",
       " ['Tetragonula', 'Eulaema', 10],\n",
       " ['Tetragonula', 'Eucera', 6],\n",
       " ['Tetragonula', 'ApisFlorea', 8],\n",
       " ['Tetragonula', 'Lepidotrigona', 11],\n",
       " ['Bombus', 'ApisCerana', 72],\n",
       " ['Bombus', 'Euglossa', 43],\n",
       " ['Bombus', 'Eulaema', 66],\n",
       " ['Bombus', 'Eucera', 18],\n",
       " ['Bombus', 'ApisFlorea', 77],\n",
       " ['Bombus', 'Lepidotrigona', 119],\n",
       " ['ApisCerana', 'Euglossa', 41],\n",
       " ['ApisCerana', 'Eulaema', 69],\n",
       " ['ApisCerana', 'Eucera', 21],\n",
       " ['ApisCerana', 'ApisFlorea', 106],\n",
       " ['ApisCerana', 'Lepidotrigona', 99],\n",
       " ['Euglossa', 'Eulaema', 52],\n",
       " ['Euglossa', 'Eucera', 14],\n",
       " ['Euglossa', 'ApisFlorea', 44],\n",
       " ['Euglossa', 'Lepidotrigona', 52],\n",
       " ['Eulaema', 'Eucera', 17],\n",
       " ['Eulaema', 'ApisFlorea', 70],\n",
       " ['Eulaema', 'Lepidotrigona', 79],\n",
       " ['Eucera', 'ApisFlorea', 20],\n",
       " ['Eucera', 'Lepidotrigona', 26],\n",
       " ['ApisFlorea', 'Lepidotrigona', 130]]"
      ]
     },
     "execution_count": 155,
     "metadata": {},
     "output_type": "execute_result"
    }
   ],
   "source": [
    "################### Now look inside 'Apidae' lineage.###################\n",
    "#Runs: Belgium_runs (Apis Melifera), and Apidae Runs (all Apidae).\n",
    "#Contigs: Belgium_contigs, Apidae_contigs\n",
    "#coverage matrix: covmat.\n",
    "\n",
    "metadatdf[metadatdf['Run'].isin(Apidae_runs)]['ScientificName'].unique()\n",
    "Apidae_groups= {'Apis Mellifera':['Apis mellifera intermissa','Apis mellifera','Apis mellifera ligustica','Apis mellifera carnica','Apis mellifera mellifera','Apis mellifera scutellata','Apis mellifera capensis','Apis mellifera syriaca'], \n",
    "                'Ceratina':['Ceratina australensis','Ceratina calcarata'],\n",
    "                'Tetragonula':['Tetragonula carbonaria'],\n",
    "                'Bombus':['Bombus cryptarum','Bombus pyrosoma','Bombus terrestris','Bombus terrestris audax'],\n",
    "                'Apis cerana': ['Apis cerana','Apis cerana cerana'],\n",
    "                'Euglossa':['Euglossa flammea','Euglossa dilemma'],\n",
    "                'Eulaema':['Eulaema bombiformis','Eulaema meriana'],\n",
    "                'Eucera':['Eucera nigrescens','Eucera nigriceps','Eucera sp. ''Tetraloniella'' AD-2014'],\n",
    "                'Apis florea':['Apis florea'],\n",
    "                'Lepidotrigona':['Lepidotrigona ventralis']\n",
    "               }\n",
    "\n",
    "ApisMellifera_Runs = list(metadatdf[metadatdf['ScientificName'].isin(Apidae_groups['Apis Mellifera'])]['Run']) + Belgium_runs\n",
    "Ceratina_Runs = list(metadatdf[metadatdf['ScientificName'].isin(Apidae_groups['Ceratina'])]['Run'])\n",
    "Tetragonula_Runs = list(metadatdf[metadatdf['ScientificName'].isin(Apidae_groups['Tetragonula'])]['Run'])\n",
    "Bombus_Runs = list(metadatdf[metadatdf['ScientificName'].isin(Apidae_groups['Bombus'])]['Run'])\n",
    "ApisCerana_Runs = list(metadatdf[metadatdf['ScientificName'].isin(Apidae_groups['Apis cerana'])]['Run'])\n",
    "Euglossa_Runs = list(metadatdf[metadatdf['ScientificName'].isin(Apidae_groups['Euglossa'])]['Run'])\n",
    "Eulaema_Runs = list(metadatdf[metadatdf['ScientificName'].isin(Apidae_groups['Eulaema'])]['Run'])\n",
    "Eucera_Runs = list(metadatdf[metadatdf['ScientificName'].isin(Apidae_groups['Eucera'])]['Run'])\n",
    "ApisFlorea_Runs = list(metadatdf[metadatdf['ScientificName'].isin(Apidae_groups['Apis florea'])]['Run'])\n",
    "Lepidotrigona_Runs = list(metadatdf[metadatdf['ScientificName'].isin(Apidae_groups['Lepidotrigona'])]['Run'])\n",
    "\n",
    "Mellifera_cov = covmat[covmat.index.isin(ApisMellifera_Runs)]\n",
    "Ceratina_cov = covmat[covmat.index.isin(Ceratina_Runs)]\n",
    "Tetragonula_cov = covmat[covmat.index.isin(Tetragonula_Runs)]\n",
    "Bombus_cov = covmat[covmat.index.isin(Bombus_Runs)]\n",
    "ApisCerana_cov = covmat[covmat.index.isin(ApisCerana_Runs)]\n",
    "Euglossa_cov = covmat[covmat.index.isin(Euglossa_Runs)]\n",
    "Eulaema_cov = covmat[covmat.index.isin(Eulaema_Runs)]\n",
    "Eucera_cov = covmat[covmat.index.isin(Eucera_Runs)]\n",
    "ApisFlorea_cov = covmat[covmat.index.isin(ApisFlorea_Runs)]\n",
    "Lepidotrigona_cov = covmat[covmat.index.isin(Lepidotrigona_Runs)]\n",
    "\n",
    "\n",
    "dfDic = {\n",
    "    'Mellifera' : Mellifera_cov,\n",
    "    'Ceratina' : Ceratina_cov,\n",
    "    'Tetragonula' : Tetragonula_cov,\n",
    "    'Bombus' : Bombus_cov,\n",
    "    'ApisCerana' : ApisCerana_cov,\n",
    "    'Euglossa' : Euglossa_cov,\n",
    "    'Eulaema' : Eulaema_cov,\n",
    "    'Eucera' : Eucera_cov,\n",
    "    'ApisFlorea' : ApisFlorea_cov,\n",
    "    'Lepidotrigona' : Lepidotrigona_cov\n",
    "}\n",
    "list(dfDic.keys())\n",
    "\n",
    "\n",
    "Combinations = list(dfDic.keys())\n",
    "Combinations\n",
    "\n",
    "ShareLis_apidae = []\n",
    "for comb in list(itertools.combinations(Combinations, 2)):\n",
    "    df1 = dfDic[comb[0]]\n",
    "    df2 = dfDic[comb[1]]\n",
    "    \n",
    "    df1Ret = df1[df1 > 0.1].count() > (0.05 * len(df1))\n",
    "    df1_contigs = list(df1Ret[df1Ret!= False].index)\n",
    "    \n",
    "    df2Ret = df2[df2 > 0.1].count() > (0.05 * len(df2))\n",
    "    df2_contigs = list(df2Ret[df2Ret!= False].index)\n",
    "    \n",
    "    SharedC = len(set.intersection(set(df1_contigs), set(df2_contigs)))\n",
    "    ShareLis_apidae.append([comb[0], comb[1], SharedC])\n",
    "ShareLis_apidae"
   ]
  },
  {
   "cell_type": "code",
   "execution_count": 156,
   "metadata": {},
   "outputs": [
    {
     "name": "stdout",
     "output_type": "stream",
     "text": [
      "{'Mellifera': 926, 'Ceratina': 373, 'Tetragonula': 11, 'Bombus': 224, 'ApisCerana': 326, 'Euglossa': 92, 'Eulaema': 149, 'Eucera': 41, 'ApisFlorea': 584, 'Lepidotrigona': 354}\n"
     ]
    }
   ],
   "source": [
    "# Get number of contigs that exceed the threshold per family.\n",
    "famDic = {}\n",
    "for i in dfDic:\n",
    "    stat = dfDic[i][dfDic[i] > 0.1].count() > (0.05 * len(dfDic[i]))\n",
    "    famDic[i] = sum(stat)\n",
    "print(famDic)"
   ]
  },
  {
   "cell_type": "code",
   "execution_count": 120,
   "metadata": {},
   "outputs": [],
   "source": [
    "#Write to file, and process in cytoscape\n",
    "with open('../networks/Apidae_insect.csv', 'w', newline='') as csvfile:\n",
    "    writer = csv.writer(csvfile)\n",
    "    writer.writerows(ShareLis_apidae)"
   ]
  },
  {
   "cell_type": "code",
   "execution_count": 121,
   "metadata": {},
   "outputs": [
    {
     "data": {
      "text/plain": [
       "2317"
      ]
     },
     "execution_count": 121,
     "metadata": {},
     "output_type": "execute_result"
    }
   ],
   "source": [
    "len(contigs)"
   ]
  },
  {
   "cell_type": "code",
   "execution_count": null,
   "metadata": {},
   "outputs": [],
   "source": []
  }
 ],
 "metadata": {
  "kernelspec": {
   "display_name": "Python 3",
   "language": "python",
   "name": "python3"
  },
  "language_info": {
   "codemirror_mode": {
    "name": "ipython",
    "version": 3
   },
   "file_extension": ".py",
   "mimetype": "text/x-python",
   "name": "python",
   "nbconvert_exporter": "python",
   "pygments_lexer": "ipython3",
   "version": "3.7.7"
  }
 },
 "nbformat": 4,
 "nbformat_minor": 5
}
