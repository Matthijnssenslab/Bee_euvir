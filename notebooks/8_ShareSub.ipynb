{
 "cells": [
  {
   "cell_type": "code",
   "execution_count": 20,
   "metadata": {},
   "outputs": [],
   "source": [
    "import seaborn as sns\n",
    "import pandas as pd\n",
    "import itertools\n",
    "import sys"
   ]
  },
  {
   "cell_type": "code",
   "execution_count": 38,
   "metadata": {},
   "outputs": [
    {
     "ename": "SyntaxError",
     "evalue": "invalid syntax (<ipython-input-38-60cee15e5197>, line 22)",
     "output_type": "error",
     "traceback": [
      "\u001b[0;36m  File \u001b[0;32m\"<ipython-input-38-60cee15e5197>\"\u001b[0;36m, line \u001b[0;32m22\u001b[0m\n\u001b[0;31m    'Eucera' : 0,\u001b[0m\n\u001b[0m           ^\u001b[0m\n\u001b[0;31mSyntaxError\u001b[0m\u001b[0;31m:\u001b[0m invalid syntax\n"
     ]
    }
   ],
   "source": [
    "# Parse total nested lists.\n",
    "\n",
    "\n",
    "# Apidae\n",
    "# Contigs in each group:\n",
    "ApidaeDic['Env'] = {\n",
    "    'ApisFlorea' : 0,\n",
    "    'Bombus' : 30,\n",
    "    'Ceratina': 10,\n",
    "    'Eucera' : 1,\n",
    "    'Euglossa' : 3,\n",
    "    'Eulaema' : 3,\n",
    "    'Lepidotrigona' : 0,\n",
    "    'Mellifera' : 752,\n",
    "    'Tetragonula' : 0,\n",
    "    'ApisCerana' : 0,\n",
    "}\n",
    "ApidaeDic['Ins'] = {\n",
    "    'ApisFlorea' : 0,\n",
    "    'Bombus' : 9,\n",
    "    'Ceratina': 20\n",
    "    'Eucera' : 0,\n",
    "    'Euglossa' : 0,\n",
    "    'Eulaema' : 0,\n",
    "    'Lepidotrigona' : 0,\n",
    "    'Mellifera' : 1580,\n",
    "    'Tetragonula' : 0,\n",
    "    'ApisCerana' : 51,\n",
    "}\n",
    "\n",
    "\n",
    "apidaeDic = {}\n",
    "# Apidae, env (345 shared contigs)\n",
    "with open('../networks/Apidae_env_all.csv') as f:\n",
    "    for line in f:\n",
    "        tax1 = line.strip().split(',')[0]\n",
    "        tax2 = line.strip().split(',')[1]\n",
    "        count = int(line.strip().split(',')[2])\n",
    "        fw = tax1 + '_' + tax2\n",
    "        rv = tax2 + '_' + tax1\n",
    "        if fw not in apidaeDic and rv not in apidaeDic:\n",
    "            apidaeDic[fw] = (count / apidaeDic['Env'][fw] + apidaeDic['Env'][rv])\n",
    "            apidaeDic[rv] = (count / apidaeDic['Env'][fw] + apidaeDic['Env'][rv])\n",
    "        elif fw in apidaeDic and rv in apidaeDic:\n",
    "            apidaeDic[fw] += (count / apidaeDic['Env'][fw] + apidaeDic['Env'][rv])\n",
    "            apidaeDic[rv] += (count / apidaeDic['Env'][fw] + apidaeDic['Env'][rv])\n",
    "        else:\n",
    "            print(\"Problem parsing. exit.\")\n",
    "            break\n",
    "\n",
    "apidaeInsectDic = {}\n",
    "# Apidae, Insect (708 shared contigs)\n",
    "with open('../networks/Apidae_insect_all.csv') as f:\n",
    "    for line in f:\n",
    "        tax1 = line.strip().split(',')[0]\n",
    "        tax2 = line.strip().split(',')[1]\n",
    "        count = int(line.strip().split(',')[2])\n",
    "        fw = tax1 + '_' + tax2\n",
    "        rv = tax2 + '_' + tax1\n",
    "        if fw not in apidaeInsectDic and rv not in apidaeInsectDic:\n",
    "            apidaeInsectDic[fw] = (count / 708)\n",
    "            apidaeInsectDic[rv] = (count / 708)\n",
    "        elif fw in apidaeInsectDic and rv in apidaeInsectDic:\n",
    "            apidaeInsectDic[fw] += (count / 708)\n",
    "            apidaeInsectDic[rv] += (count / 708)\n",
    "        else:\n",
    "            print(\"Problem parsing. exit.\")\n",
    "            break\n",
    "\n",
    "if len(apidaeDic) != len(apidaeInsectDic):\n",
    "    print(\"Dics not equally long.\")\n",
    "\n",
    "# Take the combinations\n",
    "uniques = []\n",
    "for i in apidaeDic:\n",
    "    if i.split('_')[0] not in uniques:\n",
    "        uniques.append(i.split('_')[0])\n",
    "    if i.split('_')[1] not in uniques:\n",
    "        uniques.append(i.split('_')[1])\n",
    "\n",
    "list(itertools.combinations(uniques, 2))\n",
    "diffLis = []\n",
    "for comb in list(itertools.combinations(uniques, 2)):\n",
    "    row = comb[0]\n",
    "    col = comb[1]\n",
    "    fw = row + '_' + col\n",
    "    rv = col + '_' + row\n",
    "    env = apidaeDic[fw]\n",
    "    ins = apidaeInsectDic[fw]\n",
    "    diffLis.append([row,col,ins-env])\n",
    "    diffLis.append([col,row,ins-env])\n",
    "\n",
    "apidaeDF = pd.DataFrame(diffLis)\n",
    "apidaeDF.columns = ['Row', 'Col','Diff']\n",
    "apidaeDF = apidaeDF.pivot(index='Row', columns='Col')\n",
    "apidaeDF = apidaeDF.fillna(0)\n",
    "apidaeDF\n",
    "sns.clustermap(apidaeDF)\n",
    "# ../networks/Apidae_env_all.csv'\n",
    "# ../networks/Hymenoptera_env_all.csv\n",
    "\n",
    "\n",
    "# ../networks/Hymenoptera_insect_all.csv\n",
    "# ../networks/Apidae_insect_all.csv\n",
    "\n"
   ]
  },
  {
   "cell_type": "code",
   "execution_count": null,
   "metadata": {},
   "outputs": [],
   "source": [
    "# Hymenoptera:\n",
    "\n",
    "env contigs: \n",
    "    [len(Apidae_contigs) + len(Belgium_contigs),\n",
    "     len(Formicidae_contigs),\n",
    "     len(Braconidae_contigs),len(Others_contigs),\n",
    "     len(Vespidae_contigs),len(Figitidae_contigs),\n",
    "     len(Pteromalidae_contigs),len(Halictidae_contigs),\n",
    "     len(Megachilidae_contigs),len(Cephidae_contigs)]\n",
    "    [800, 23, 6, 42, 5, 16, 0, 15, 8, 0]\n",
    "    \n",
    "insect contigs:"
   ]
  },
  {
   "cell_type": "code",
   "execution_count": 35,
   "metadata": {},
   "outputs": [
    {
     "data": {
      "text/plain": [
       "Index(['ApisCerana', 'ApisFlorea', 'Bombus', 'Ceratina', 'Eucera', 'Euglossa',\n",
       "       'Eulaema', 'Lepidotrigona', 'Mellifera', 'Tetragonula'],\n",
       "      dtype='object', name='Row')"
      ]
     },
     "execution_count": 35,
     "metadata": {},
     "output_type": "execute_result"
    }
   ],
   "source": [
    "apidaeDF.index"
   ]
  },
  {
   "cell_type": "code",
   "execution_count": 14,
   "metadata": {},
   "outputs": [
    {
     "data": {
      "text/plain": [
       "{'Mellifera_Ceratina': 0.17681159420289855,\n",
       " 'Mellifera_Tetragonula': 0.005797101449275362,\n",
       " 'Mellifera_Bombus': 0.1565217391304348,\n",
       " 'Mellifera_ApisCerana': 0.28405797101449276,\n",
       " 'Mellifera_Euglossa': 0.08695652173913043,\n",
       " 'Mellifera_Eulaema': 0.13623188405797101,\n",
       " 'Mellifera_Eucera': 0.04057971014492753,\n",
       " 'Mellifera_ApisFlorea': 1.3391304347826087,\n",
       " 'Mellifera_Lepidotrigona': 0.39420289855072466,\n",
       " 'Ceratina_Tetragonula': 0.0,\n",
       " 'Ceratina_Bombus': 0.011594202898550725,\n",
       " 'Ceratina_ApisCerana': 0.008695652173913044,\n",
       " 'Ceratina_Euglossa': 0.011594202898550725,\n",
       " 'Ceratina_Eulaema': 0.005797101449275362,\n",
       " 'Ceratina_Eucera': 0.002898550724637681,\n",
       " 'Ceratina_ApisFlorea': 0.002898550724637681,\n",
       " 'Ceratina_Lepidotrigona': 0.014492753623188406,\n",
       " 'Tetragonula_Bombus': 0.0,\n",
       " 'Tetragonula_ApisCerana': 0.0,\n",
       " 'Tetragonula_Euglossa': 0.0,\n",
       " 'Tetragonula_Eulaema': 0.0,\n",
       " 'Tetragonula_Eucera': 0.0,\n",
       " 'Tetragonula_ApisFlorea': 0.0,\n",
       " 'Tetragonula_Lepidotrigona': 0.0,\n",
       " 'Bombus_ApisCerana': 0.002898550724637681,\n",
       " 'Bombus_Euglossa': 0.0,\n",
       " 'Bombus_Eulaema': 0.0,\n",
       " 'Bombus_Eucera': 0.0,\n",
       " 'Bombus_ApisFlorea': 0.0,\n",
       " 'Bombus_Lepidotrigona': 0.011594202898550725,\n",
       " 'ApisCerana_Euglossa': 0.0,\n",
       " 'ApisCerana_Eulaema': 0.0,\n",
       " 'ApisCerana_Eucera': 0.002898550724637681,\n",
       " 'ApisCerana_ApisFlorea': 0.02318840579710145,\n",
       " 'ApisCerana_Lepidotrigona': 0.002898550724637681,\n",
       " 'Euglossa_Eulaema': 0.0,\n",
       " 'Euglossa_Eucera': 0.0,\n",
       " 'Euglossa_ApisFlorea': 0.0,\n",
       " 'Euglossa_Lepidotrigona': 0.0,\n",
       " 'Eulaema_Eucera': 0.0,\n",
       " 'Eulaema_ApisFlorea': 0.0,\n",
       " 'Eulaema_Lepidotrigona': 0.0,\n",
       " 'Eucera_ApisFlorea': 0.0,\n",
       " 'Eucera_Lepidotrigona': 0.0,\n",
       " 'ApisFlorea_Lepidotrigona': 0.0}"
      ]
     },
     "execution_count": 14,
     "metadata": {},
     "output_type": "execute_result"
    }
   ],
   "source": [
    "apidaeInsectDic"
   ]
  }
 ],
 "metadata": {
  "kernelspec": {
   "display_name": "Python 3",
   "language": "python",
   "name": "python3"
  },
  "language_info": {
   "codemirror_mode": {
    "name": "ipython",
    "version": 3
   },
   "file_extension": ".py",
   "mimetype": "text/x-python",
   "name": "python",
   "nbconvert_exporter": "python",
   "pygments_lexer": "ipython3",
   "version": "3.7.7"
  }
 },
 "nbformat": 4,
 "nbformat_minor": 4
}
