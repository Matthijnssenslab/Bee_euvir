{
 "cells": [
  {
   "cell_type": "code",
   "execution_count": 192,
   "metadata": {},
   "outputs": [],
   "source": [
    "import pandas as pd\n",
    "import numpy as np\n",
    "import seaborn as sns\n",
    "import matplotlib.pyplot as plt\n",
    "import csv\n",
    "import itertools"
   ]
  },
  {
   "cell_type": "code",
   "execution_count": 193,
   "metadata": {},
   "outputs": [],
   "source": [
    "## Subset both the taxonomy dataframes.\n",
    "nodeTax = pd.read_csv('../data/notebooks_out/viral_df_taxonomy.csv',index_col=0)\n",
    "\n",
    "# A few rules for subsetting.\n",
    "\n",
    "# Has to have family assigned at least\n",
    "nodeTax = nodeTax[nodeTax['family'] != 'Unclassified']\n",
    "# Has to fall in an 'enviromental/plant infecting family.'\n",
    "plantVirFam = ['Partitiviridae','Totiviridae','Chrysoviridae','Virgaviridae','Comoviridae','Phycodnaviridae',\n",
    "              'Endornaviridae', 'Solemoviridae', 'Deltaflexiviridae','Bromoviridae']\n",
    "\n",
    "nodeTax = nodeTax[nodeTax['family'].isin(plantVirFam)]\n",
    "\n",
    "sraTax = pd.read_csv('../data/notebooks_out/viral_df_taxonomy_SRA.csv',index_col=0)\n",
    "sraTax = sraTax[sraTax['family'] != 'Unclassified']\n",
    "sraTax = sraTax[sraTax['family'].isin(plantVirFam)]"
   ]
  },
  {
   "cell_type": "code",
   "execution_count": 194,
   "metadata": {},
   "outputs": [
    {
     "data": {
      "text/plain": [
       "918"
      ]
     },
     "execution_count": 194,
     "metadata": {},
     "output_type": "execute_result"
    }
   ],
   "source": [
    "len(nodeTax + sraTax)"
   ]
  },
  {
   "cell_type": "code",
   "execution_count": 195,
   "metadata": {},
   "outputs": [],
   "source": [
    "#Read in coverage matrix.\n",
    "covmatsra = pd.read_csv(\"../data/Pcoa/SRA_df_coverage_lengthnorm.tsv\", sep=',', index_col=0)\n",
    "covmatbe = pd.read_csv(\"../data/Pcoa/flembee_df_coverage_lengthnorm.tsv\", sep=\",\", index_col=0)\n",
    "covmatbe = covmatbe.T\n",
    "covmat = pd.concat([covmatsra, covmatbe], axis=0, join='outer')\n",
    "covmat = covmat[covmat.columns.intersection(list(sraTax.index) + list(nodeTax.index))]"
   ]
  },
  {
   "cell_type": "code",
   "execution_count": 196,
   "metadata": {},
   "outputs": [],
   "source": [
    "#Now we need information on the eukaryotic family of the host to begin with. For now we keep the flemish bee samples as seperate from apidae.\n",
    "metadatdf = pd.read_csv(\"../data/Metadata_location_year_study_kind.csv\", sep=\";\")\n",
    "list(metadatdf[metadatdf['Tax_family'] == 'Formicidae']['Run'])\n",
    "\n",
    "#We will only seperate families where we have more than 10 samples each, the others will be collapsed in an 'other'group.\n",
    "#To start we just take the contig representatives.\n",
    "Belgium_runs = list(covmatbe.index)\n",
    "Formicidae_runs = list(metadatdf[metadatdf['Tax_family'] == 'Formicidae']['Run'])\n",
    "Apidae_runs = list(metadatdf[metadatdf['Tax_family'] == 'Apidae']['Run'])\n",
    "Vespidae_runs = list(metadatdf[metadatdf['Tax_family'] == 'Vespidae']['Run'])\n",
    "Halictidae_runs = list(metadatdf[metadatdf['Tax_family'] == 'Halictidae']['Run'])\n",
    "Braconidae_runs = list(metadatdf[metadatdf['Tax_family'] == 'Braconidae']['Run'])\n",
    "Megachilidae_runs = list(metadatdf[metadatdf['Tax_family'] == 'Megachilidae']['Run'])\n",
    "Pteromalidae_runs = list(metadatdf[metadatdf['Tax_family'] == 'Pteromalidae']['Run'])\n",
    "Cephidae_runs = list(metadatdf[metadatdf['Tax_family'] == 'Cephidae']['Run'])\n",
    "Figitidae_runs = list(metadatdf[metadatdf['Tax_family'] == 'Figitidae']['Run'])\n",
    "Gathered = Belgium_runs + Formicidae_runs + Apidae_runs + Vespidae_runs + Halictidae_runs + Braconidae_runs + Megachilidae_runs + Pteromalidae_runs + Cephidae_runs + Figitidae_runs\n",
    "Others_runs = []\n",
    "for i in list(metadatdf['Run']):\n",
    "    if i not in Gathered:\n",
    "        Others_runs.append(i)"
   ]
  },
  {
   "cell_type": "code",
   "execution_count": 197,
   "metadata": {},
   "outputs": [
    {
     "data": {
      "text/plain": [
       "True"
      ]
     },
     "execution_count": 197,
     "metadata": {},
     "output_type": "execute_result"
    }
   ],
   "source": [
    "#Sanity test to see if we didn't miss anything:\n",
    "len(covmat) == len(Belgium_runs) + len(Formicidae_runs) + len(Apidae_runs) + len(Vespidae_runs) + len(Halictidae_runs) + len(Braconidae_runs) + len(Megachilidae_runs) + len(Pteromalidae_runs) + len(Cephidae_runs) + len(Figitidae_runs) + len(Others_runs)"
   ]
  },
  {
   "cell_type": "code",
   "execution_count": 198,
   "metadata": {},
   "outputs": [],
   "source": [
    "#Now subset the coverage matrix, so we have 1 matrix / eukaryotic family.\n",
    "Belgium_cov = covmat[covmat.index.isin(Belgium_runs)]\n",
    "Formicidae_cov = covmat[covmat.index.isin(Formicidae_runs)]\n",
    "Apidae_cov = covmat[covmat.index.isin(Apidae_runs)]\n",
    "Vespidae_cov = covmat[covmat.index.isin(Vespidae_runs)]\n",
    "Halictidae_cov = covmat[covmat.index.isin(Halictidae_runs)]\n",
    "Braconidae_cov = covmat[covmat.index.isin(Braconidae_runs)]\n",
    "Megachilidae_cov = covmat[covmat.index.isin(Megachilidae_runs)]\n",
    "Pteromalidae_cov = covmat[covmat.index.isin(Pteromalidae_runs)]\n",
    "Cephidae_cov = covmat[covmat.index.isin(Cephidae_runs)]\n",
    "Figitidae_cov = covmat[covmat.index.isin(Figitidae_runs)]\n",
    "Others_cov = covmat[covmat.index.isin(Others_runs)]"
   ]
  },
  {
   "cell_type": "code",
   "execution_count": 199,
   "metadata": {},
   "outputs": [
    {
     "data": {
      "text/plain": [
       "<AxesSubplot:>"
      ]
     },
     "execution_count": 199,
     "metadata": {},
     "output_type": "execute_result"
    },
    {
     "data": {
      "image/png": "[encoded data removed]",
      "text/plain": [
       "<Figure size 432x288 with 1 Axes>"
      ]
     },
     "metadata": {
      "needs_background": "light"
     },
     "output_type": "display_data"
    }
   ],
   "source": [
    "#Just get some barplots on the samples per eukaryotic family. This is quite skewed, but we assume that they are sampled completely. (This is a big flaw, but can't do anything about it).\n",
    "famlen = [len(Apidae_cov) + len(Belgium_cov), len(Formicidae_cov),len(Vespidae_cov),len(Braconidae_cov),len(Halictidae_cov),len(Pteromalidae_cov),len(Others_cov),len(Megachilidae_cov),len(Cephidae_cov),len(Figitidae_cov)]\n",
    "g = sns.barplot(x = ['Apidae_cov','Formicidae','Vespidae_cov','Braconidae_cov','Halictidae_cov','Pteromalidae_cov','Others_cov','Megachilidae_cov','Cephidae_cov','Figitidae_cov'], y=famlen)\n",
    "g.set_xticklabels(g.get_xticklabels(), rotation=90)\n",
    "g"
   ]
  },
  {
   "cell_type": "code",
   "execution_count": 200,
   "metadata": {},
   "outputs": [
    {
     "name": "stdout",
     "output_type": "stream",
     "text": [
      "1433\n"
     ]
    }
   ],
   "source": [
    "print(sum(famlen))"
   ]
  },
  {
   "cell_type": "code",
   "execution_count": 201,
   "metadata": {},
   "outputs": [],
   "source": [
    "# Now get lists of the representative contigs in each of the families.\n",
    "# Largely deprecated, just leave the code in case I want to revisit this.\n",
    "\n",
    "Belgium_contigs = []\n",
    "for i in list(covmat.columns):\n",
    "    if 'BP' in i or 'BeeP' in i:\n",
    "        Belgium_contigs.append(i)\n",
    "Formicidae_contigs  = []\n",
    "for i in list(covmat.columns):\n",
    "    if i.split('.')[0] in Formicidae_runs:\n",
    "        Formicidae_contigs.append(i)\n",
    "Apidae_contigs  = []\n",
    "for i in list(covmat.columns):\n",
    "    if i.split('.')[0] in Apidae_runs:\n",
    "        Apidae_contigs.append(i)\n",
    "Vespidae_contigs  = []\n",
    "for i in list(covmat.columns):\n",
    "    if i.split('.')[0] in Vespidae_runs:\n",
    "        Vespidae_contigs.append(i)\n",
    "Halictidae_contigs  = []\n",
    "for i in list(covmat.columns):\n",
    "    if i.split('.')[0] in Halictidae_runs:\n",
    "        Halictidae_contigs.append(i)\n",
    "Braconidae_contigs  = []\n",
    "for i in list(covmat.columns):\n",
    "    if i.split('.')[0] in Braconidae_runs:\n",
    "        Braconidae_contigs.append(i)\n",
    "Megachilidae_contigs  = []\n",
    "for i in list(covmat.columns):\n",
    "    if i.split('.')[0] in Megachilidae_runs:\n",
    "        Megachilidae_contigs.append(i)\n",
    "Pteromalidae_contigs  = []\n",
    "for i in list(covmat.columns):\n",
    "    if i.split('.')[0] in Pteromalidae_runs:\n",
    "        Pteromalidae_contigs.append(i)\n",
    "Cephidae_contigs  = []\n",
    "for i in list(covmat.columns):\n",
    "    if i.split('.')[0] in Cephidae_runs:\n",
    "        Cephidae_contigs.append(i)\n",
    "Figitidae_contigs  = []\n",
    "for i in list(covmat.columns):\n",
    "    if i.split('.')[0] in Figitidae_runs:\n",
    "        Figitidae_contigs.append(i)\n",
    "Others_contigs = []\n",
    "for i in list(covmat.columns):\n",
    "    if i.split('.')[0] in Others_runs:\n",
    "        Others_contigs.append(i)"
   ]
  },
  {
   "cell_type": "code",
   "execution_count": 202,
   "metadata": {},
   "outputs": [
    {
     "name": "stdout",
     "output_type": "stream",
     "text": [
      "[800, 23, 6, 42, 5, 16, 0, 15, 8, 0]\n",
      "915\n"
     ]
    },
    {
     "data": {
      "image/png": "[encoded data removed]",
      "text/plain": [
       "<Figure size 432x288 with 1 Axes>"
      ]
     },
     "metadata": {
      "needs_background": "light"
     },
     "output_type": "display_data"
    }
   ],
   "source": [
    "famlen = [len(Apidae_contigs) + len(Belgium_contigs), len(Formicidae_contigs),len(Braconidae_contigs),len(Others_contigs), len(Vespidae_contigs),len(Figitidae_contigs),len(Pteromalidae_contigs),len(Halictidae_contigs),len(Megachilidae_contigs),len(Cephidae_contigs)]\n",
    "print(famlen)\n",
    "g = sns.barplot(x = ['Apidae_contigs','Formicidae','Braconidae_contigs','Others_contigs','Vespidae_contigs','Figitidae_contigs','Pteromalidae_contigs','Halictidae_contigs','Megachilidae_contigs','Cephidae_contigs'], y=famlen)\n",
    "g.set_xticklabels(g.get_xticklabels(), rotation=90)\n",
    "g\n",
    "print(sum(famlen))"
   ]
  },
  {
   "cell_type": "code",
   "execution_count": 203,
   "metadata": {},
   "outputs": [
    {
     "data": {
      "text/plain": [
       "True"
      ]
     },
     "execution_count": 203,
     "metadata": {},
     "output_type": "execute_result"
    }
   ],
   "source": [
    "#Sanity test to see if we have all contigs.\n",
    "sum(famlen) == len(covmat.columns)"
   ]
  },
  {
   "cell_type": "code",
   "execution_count": 204,
   "metadata": {},
   "outputs": [
    {
     "data": {
      "text/plain": [
       "915"
      ]
     },
     "execution_count": 204,
     "metadata": {},
     "output_type": "execute_result"
    }
   ],
   "source": [
    "len(contigs)"
   ]
  },
  {
   "cell_type": "code",
   "execution_count": 205,
   "metadata": {},
   "outputs": [
    {
     "data": {
      "text/plain": [
       "[['Apidae', 'Formicidae', 35],\n",
       " ['Apidae', 'Vespidae', 38],\n",
       " ['Apidae', 'Halictidae', 8],\n",
       " ['Apidae', 'Braconidae', 52],\n",
       " ['Apidae', 'Megachilidae', 38],\n",
       " ['Apidae', 'Pteromalidae', 49],\n",
       " ['Apidae', 'Cephidae', 38],\n",
       " ['Apidae', 'Figitidae', 21],\n",
       " ['Apidae', 'Others', 39],\n",
       " ['Formicidae', 'Vespidae', 31],\n",
       " ['Formicidae', 'Halictidae', 9],\n",
       " ['Formicidae', 'Braconidae', 32],\n",
       " ['Formicidae', 'Megachilidae', 34],\n",
       " ['Formicidae', 'Pteromalidae', 33],\n",
       " ['Formicidae', 'Cephidae', 32],\n",
       " ['Formicidae', 'Figitidae', 20],\n",
       " ['Formicidae', 'Others', 34],\n",
       " ['Vespidae', 'Halictidae', 8],\n",
       " ['Vespidae', 'Braconidae', 39],\n",
       " ['Vespidae', 'Megachilidae', 38],\n",
       " ['Vespidae', 'Pteromalidae', 43],\n",
       " ['Vespidae', 'Cephidae', 32],\n",
       " ['Vespidae', 'Figitidae', 21],\n",
       " ['Vespidae', 'Others', 39],\n",
       " ['Halictidae', 'Braconidae', 7],\n",
       " ['Halictidae', 'Megachilidae', 8],\n",
       " ['Halictidae', 'Pteromalidae', 8],\n",
       " ['Halictidae', 'Cephidae', 10],\n",
       " ['Halictidae', 'Figitidae', 6],\n",
       " ['Halictidae', 'Others', 9],\n",
       " ['Braconidae', 'Megachilidae', 45],\n",
       " ['Braconidae', 'Pteromalidae', 65],\n",
       " ['Braconidae', 'Cephidae', 47],\n",
       " ['Braconidae', 'Figitidae', 24],\n",
       " ['Braconidae', 'Others', 48],\n",
       " ['Megachilidae', 'Pteromalidae', 53],\n",
       " ['Megachilidae', 'Cephidae', 39],\n",
       " ['Megachilidae', 'Figitidae', 19],\n",
       " ['Megachilidae', 'Others', 37],\n",
       " ['Pteromalidae', 'Cephidae', 53],\n",
       " ['Pteromalidae', 'Figitidae', 25],\n",
       " ['Pteromalidae', 'Others', 41],\n",
       " ['Cephidae', 'Figitidae', 23],\n",
       " ['Cephidae', 'Others', 35],\n",
       " ['Figitidae', 'Others', 21]]"
      ]
     },
     "execution_count": 205,
     "metadata": {},
     "output_type": "execute_result"
    }
   ],
   "source": [
    "#now evaluate presence (defined as a relative count > 0.1 (assuming average of 100bp reads, this would be 10x covered, and the average is actually ~189))\n",
    "#This treshold needs to be true for 5% of the samples of a particular family, and then it's appended.\n",
    "#Create an edge list\n",
    "\n",
    "# Combine the contigs.\n",
    "\n",
    "Combinations = ['Apidae','Formicidae','Vespidae','Halictidae','Braconidae','Megachilidae','Pteromalidae','Cephidae','Figitidae','Others']\n",
    "Apidae2_cov = pd.concat([Apidae_cov, Belgium_cov])\n",
    "\n",
    "dfDic = {\n",
    "    'Apidae': Apidae2_cov,\n",
    "    'Formicidae': Formicidae_cov,\n",
    "    'Vespidae': Vespidae_cov,\n",
    "    'Halictidae': Halictidae_cov,\n",
    "    'Braconidae': Braconidae_cov,\n",
    "    'Megachilidae': Megachilidae_cov,\n",
    "    'Pteromalidae': Pteromalidae_cov,\n",
    "    'Cephidae': Cephidae_cov,\n",
    "    'Figitidae': Figitidae_cov,\n",
    "    'Others': Others_cov \n",
    "}\n",
    "\n",
    "\n",
    "contigs = Belgium_contigs + \\\n",
    "    Formicidae_contigs + \\\n",
    "    Apidae_contigs + \\\n",
    "    Vespidae_contigs + \\\n",
    "    Halictidae_contigs + \\\n",
    "    Braconidae_contigs + \\\n",
    "    Megachilidae_contigs + \\\n",
    "    Pteromalidae_contigs + \\\n",
    "    Cephidae_contigs + \\\n",
    "    Figitidae_contigs + \\\n",
    "    Others_contigs\n",
    "\n",
    "ShareLis = []\n",
    "for comb in list(itertools.combinations(Combinations, 2)):\n",
    "    df1 = dfDic[comb[0]]\n",
    "    df2 = dfDic[comb[1]]\n",
    "    \n",
    "    df1Ret = df1[df1 > 0.1].count() > (0.05 * len(df1))\n",
    "    df1_contigs = list(df1Ret[df1Ret!= False].index)\n",
    "    \n",
    "    df2Ret = df2[df2 > 0.1].count() > (0.05 * len(df2))\n",
    "    df2_contigs = list(df2Ret[df2Ret!= False].index)\n",
    "    \n",
    "    SharedC = len(set.intersection(set(df1_contigs), set(df2_contigs)))\n",
    "    ShareLis.append([comb[0], comb[1], SharedC])\n",
    "ShareLis"
   ]
  },
  {
   "cell_type": "code",
   "execution_count": 206,
   "metadata": {},
   "outputs": [
    {
     "name": "stdout",
     "output_type": "stream",
     "text": [
      "{'Apidae': 108, 'Formicidae': 71, 'Vespidae': 84, 'Halictidae': 10, 'Braconidae': 159, 'Megachilidae': 145, 'Pteromalidae': 200, 'Cephidae': 155, 'Figitidae': 47, 'Others': 98}\n"
     ]
    }
   ],
   "source": [
    "# Get number of contigs that exceed the threshold per family.\n",
    "famDic = {}\n",
    "for i in dfDic:\n",
    "    stat = dfDic[i][dfDic[i] > 0.1].count() > (0.05 * len(dfDic[i]))\n",
    "    famDic[i] = sum(stat)\n",
    "print(famDic)"
   ]
  },
  {
   "cell_type": "code",
   "execution_count": 207,
   "metadata": {},
   "outputs": [],
   "source": [
    "#Write to file, and process in cytoscape\n",
    "with open('../networks/Hymenoptera_env.csv', 'w', newline='') as csvfile:\n",
    "    writer = csv.writer(csvfile)\n",
    "    writer.writerows(ShareLis)"
   ]
  },
  {
   "cell_type": "code",
   "execution_count": 208,
   "metadata": {},
   "outputs": [
    {
     "data": {
      "text/plain": [
       "[['Mellifera', 'Ceratina', 46],\n",
       " ['Mellifera', 'Tetragonula', 17],\n",
       " ['Mellifera', 'Bombus', 37],\n",
       " ['Mellifera', 'ApisCerana', 51],\n",
       " ['Mellifera', 'Euglossa', 38],\n",
       " ['Mellifera', 'Eulaema', 39],\n",
       " ['Mellifera', 'Eucera', 20],\n",
       " ['Mellifera', 'ApisFlorea', 45],\n",
       " ['Mellifera', 'Lepidotrigona', 53],\n",
       " ['Ceratina', 'Tetragonula', 17],\n",
       " ['Ceratina', 'Bombus', 47],\n",
       " ['Ceratina', 'ApisCerana', 38],\n",
       " ['Ceratina', 'Euglossa', 41],\n",
       " ['Ceratina', 'Eulaema', 36],\n",
       " ['Ceratina', 'Eucera', 18],\n",
       " ['Ceratina', 'ApisFlorea', 35],\n",
       " ['Ceratina', 'Lepidotrigona', 75],\n",
       " ['Tetragonula', 'Bombus', 15],\n",
       " ['Tetragonula', 'ApisCerana', 15],\n",
       " ['Tetragonula', 'Euglossa', 17],\n",
       " ['Tetragonula', 'Eulaema', 16],\n",
       " ['Tetragonula', 'Eucera', 15],\n",
       " ['Tetragonula', 'ApisFlorea', 16],\n",
       " ['Tetragonula', 'Lepidotrigona', 19],\n",
       " ['Bombus', 'ApisCerana', 32],\n",
       " ['Bombus', 'Euglossa', 32],\n",
       " ['Bombus', 'Eulaema', 34],\n",
       " ['Bombus', 'Eucera', 24],\n",
       " ['Bombus', 'ApisFlorea', 26],\n",
       " ['Bombus', 'Lepidotrigona', 58],\n",
       " ['ApisCerana', 'Euglossa', 29],\n",
       " ['ApisCerana', 'Eulaema', 33],\n",
       " ['ApisCerana', 'Eucera', 20],\n",
       " ['ApisCerana', 'ApisFlorea', 40],\n",
       " ['ApisCerana', 'Lepidotrigona', 43],\n",
       " ['Euglossa', 'Eulaema', 43],\n",
       " ['Euglossa', 'Eucera', 21],\n",
       " ['Euglossa', 'ApisFlorea', 24],\n",
       " ['Euglossa', 'Lepidotrigona', 39],\n",
       " ['Eulaema', 'Eucera', 20],\n",
       " ['Eulaema', 'ApisFlorea', 24],\n",
       " ['Eulaema', 'Lepidotrigona', 48],\n",
       " ['Eucera', 'ApisFlorea', 19],\n",
       " ['Eucera', 'Lepidotrigona', 21],\n",
       " ['ApisFlorea', 'Lepidotrigona', 33]]"
      ]
     },
     "execution_count": 208,
     "metadata": {},
     "output_type": "execute_result"
    }
   ],
   "source": [
    "################### Now look inside 'Apidae' lineage.###################\n",
    "#Runs: Belgium_runs (Apis Melifera), and Apidae Runs (all Apidae).\n",
    "#Contigs: Belgium_contigs, Apidae_contigs\n",
    "#coverage matrix: covmat.\n",
    "\n",
    "metadatdf[metadatdf['Run'].isin(Apidae_runs)]['ScientificName'].unique()\n",
    "Apidae_groups= {'Apis Mellifera':['Apis mellifera intermissa','Apis mellifera','Apis mellifera ligustica','Apis mellifera carnica','Apis mellifera mellifera','Apis mellifera scutellata','Apis mellifera capensis','Apis mellifera syriaca'], \n",
    "                'Ceratina':['Ceratina australensis','Ceratina calcarata'],\n",
    "                'Tetragonula':['Tetragonula carbonaria'],\n",
    "                'Bombus':['Bombus cryptarum','Bombus pyrosoma','Bombus terrestris','Bombus terrestris audax'],\n",
    "                'Apis cerana': ['Apis cerana','Apis cerana cerana'],\n",
    "                'Euglossa':['Euglossa flammea','Euglossa dilemma'],\n",
    "                'Eulaema':['Eulaema bombiformis','Eulaema meriana'],\n",
    "                'Eucera':['Eucera nigrescens','Eucera nigriceps','Eucera sp. ''Tetraloniella'' AD-2014'],\n",
    "                'Apis florea':['Apis florea'],\n",
    "                'Lepidotrigona':['Lepidotrigona ventralis']\n",
    "               }\n",
    "\n",
    "ApisMellifera_Runs = list(metadatdf[metadatdf['ScientificName'].isin(Apidae_groups['Apis Mellifera'])]['Run']) + Belgium_runs\n",
    "Ceratina_Runs = list(metadatdf[metadatdf['ScientificName'].isin(Apidae_groups['Ceratina'])]['Run'])\n",
    "Tetragonula_Runs = list(metadatdf[metadatdf['ScientificName'].isin(Apidae_groups['Tetragonula'])]['Run'])\n",
    "Bombus_Runs = list(metadatdf[metadatdf['ScientificName'].isin(Apidae_groups['Bombus'])]['Run'])\n",
    "ApisCerana_Runs = list(metadatdf[metadatdf['ScientificName'].isin(Apidae_groups['Apis cerana'])]['Run'])\n",
    "Euglossa_Runs = list(metadatdf[metadatdf['ScientificName'].isin(Apidae_groups['Euglossa'])]['Run'])\n",
    "Eulaema_Runs = list(metadatdf[metadatdf['ScientificName'].isin(Apidae_groups['Eulaema'])]['Run'])\n",
    "Eucera_Runs = list(metadatdf[metadatdf['ScientificName'].isin(Apidae_groups['Eucera'])]['Run'])\n",
    "ApisFlorea_Runs = list(metadatdf[metadatdf['ScientificName'].isin(Apidae_groups['Apis florea'])]['Run'])\n",
    "Lepidotrigona_Runs = list(metadatdf[metadatdf['ScientificName'].isin(Apidae_groups['Lepidotrigona'])]['Run'])\n",
    "\n",
    "Mellifera_cov = covmat[covmat.index.isin(ApisMellifera_Runs)]\n",
    "Ceratina_cov = covmat[covmat.index.isin(Ceratina_Runs)]\n",
    "Tetragonula_cov = covmat[covmat.index.isin(Tetragonula_Runs)]\n",
    "Bombus_cov = covmat[covmat.index.isin(Bombus_Runs)]\n",
    "ApisCerana_cov = covmat[covmat.index.isin(ApisCerana_Runs)]\n",
    "Euglossa_cov = covmat[covmat.index.isin(Euglossa_Runs)]\n",
    "Eulaema_cov = covmat[covmat.index.isin(Eulaema_Runs)]\n",
    "Eucera_cov = covmat[covmat.index.isin(Eucera_Runs)]\n",
    "ApisFlorea_cov = covmat[covmat.index.isin(ApisFlorea_Runs)]\n",
    "Lepidotrigona_cov = covmat[covmat.index.isin(Lepidotrigona_Runs)]\n",
    "\n",
    "\n",
    "dfDic = {\n",
    "    'Mellifera' : Mellifera_cov,\n",
    "    'Ceratina' : Ceratina_cov,\n",
    "    'Tetragonula' : Tetragonula_cov,\n",
    "    'Bombus' : Bombus_cov,\n",
    "    'ApisCerana' : ApisCerana_cov,\n",
    "    'Euglossa' : Euglossa_cov,\n",
    "    'Eulaema' : Eulaema_cov,\n",
    "    'Eucera' : Eucera_cov,\n",
    "    'ApisFlorea' : ApisFlorea_cov,\n",
    "    'Lepidotrigona' : Lepidotrigona_cov\n",
    "}\n",
    "list(dfDic.keys())\n",
    "\n",
    "\n",
    "Combinations = list(dfDic.keys())\n",
    "Combinations\n",
    "\n",
    "ShareLis_apidae = []\n",
    "for comb in list(itertools.combinations(Combinations, 2)):\n",
    "    df1 = dfDic[comb[0]]\n",
    "    df2 = dfDic[comb[1]]\n",
    "    \n",
    "    df1Ret = df1[df1 > 0.1].count() > (0.05 * len(df1))\n",
    "    df1_contigs = list(df1Ret[df1Ret!= False].index)\n",
    "    \n",
    "    df2Ret = df2[df2 > 0.1].count() > (0.05 * len(df2))\n",
    "    df2_contigs = list(df2Ret[df2Ret!= False].index)\n",
    "    \n",
    "    SharedC = len(set.intersection(set(df1_contigs), set(df2_contigs)))\n",
    "    ShareLis_apidae.append([comb[0], comb[1], SharedC])\n",
    "ShareLis_apidae"
   ]
  },
  {
   "cell_type": "code",
   "execution_count": 209,
   "metadata": {},
   "outputs": [
    {
     "name": "stdout",
     "output_type": "stream",
     "text": [
      "{'Mellifera': 105, 'Ceratina': 198, 'Tetragonula': 20, 'Bombus': 115, 'ApisCerana': 89, 'Euglossa': 77, 'Eulaema': 81, 'Eucera': 35, 'ApisFlorea': 77, 'Lepidotrigona': 188}\n"
     ]
    }
   ],
   "source": [
    "# Get number of contigs that exceed the threshold per family.\n",
    "famDic = {}\n",
    "for i in dfDic:\n",
    "    stat = dfDic[i][dfDic[i] > 0.1].count() > (0.05 * len(dfDic[i]))\n",
    "    famDic[i] = sum(stat)\n",
    "print(famDic)"
   ]
  },
  {
   "cell_type": "code",
   "execution_count": 156,
   "metadata": {},
   "outputs": [],
   "source": [
    "#Write to file, and process in cytoscape\n",
    "with open('../networks/Apidae_env.csv', 'w', newline='') as csvfile:\n",
    "    writer = csv.writer(csvfile)\n",
    "    writer.writerows(ShareLis_apidae)"
   ]
  },
  {
   "cell_type": "code",
   "execution_count": 136,
   "metadata": {},
   "outputs": [
    {
     "data": {
      "text/plain": [
       "915"
      ]
     },
     "execution_count": 136,
     "metadata": {},
     "output_type": "execute_result"
    }
   ],
   "source": [
    "len(contigs)"
   ]
  }
 ],
 "metadata": {
  "kernelspec": {
   "display_name": "Python 3",
   "language": "python",
   "name": "python3"
  },
  "language_info": {
   "codemirror_mode": {
    "name": "ipython",
    "version": 3
   },
   "file_extension": ".py",
   "mimetype": "text/x-python",
   "name": "python",
   "nbconvert_exporter": "python",
   "pygments_lexer": "ipython3",
   "version": "3.7.7"
  }
 },
 "nbformat": 4,
 "nbformat_minor": 5
}
